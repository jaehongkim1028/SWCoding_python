{
 "cells": [
  {
   "cell_type": "markdown",
   "id": "15dd0e18",
   "metadata": {},
   "source": [
    "# 2020117066 컴퓨터학부 김재홍\n",
    "## week8 Chapter8 Lab\n",
    "### Lab 8-1"
   ]
  },
  {
   "cell_type": "code",
   "execution_count": 1,
   "id": "6610bbe8",
   "metadata": {},
   "outputs": [
    {
     "ename": "IndexError",
     "evalue": "list index out of range",
     "output_type": "error",
     "traceback": [
      "\u001b[0;31m---------------------------------------------------------------------------\u001b[0m",
      "\u001b[0;31mIndexError\u001b[0m                                Traceback (most recent call last)",
      "Input \u001b[0;32mIn [1]\u001b[0m, in \u001b[0;36m<cell line: 4>\u001b[0;34m()\u001b[0m\n\u001b[1;32m      1\u001b[0m \u001b[38;5;66;03m# 1.(1)\u001b[39;00m\n\u001b[1;32m      2\u001b[0m \u001b[38;5;66;03m# list index out of range\u001b[39;00m\n\u001b[1;32m      3\u001b[0m a \u001b[38;5;241m=\u001b[39m [\u001b[38;5;241m10\u001b[39m, \u001b[38;5;241m20\u001b[39m, \u001b[38;5;241m30\u001b[39m]\n\u001b[0;32m----> 4\u001b[0m \u001b[38;5;28mprint\u001b[39m(\u001b[43ma\u001b[49m\u001b[43m[\u001b[49m\u001b[38;5;241;43m3\u001b[39;49m\u001b[43m]\u001b[49m)\n",
      "\u001b[0;31mIndexError\u001b[0m: list index out of range"
     ]
    }
   ],
   "source": [
    "# 1.(1)\n",
    "# list index out of range\n",
    "\n",
    "a = [10, 20, 30]\n",
    "print(a[3])"
   ]
  },
  {
   "cell_type": "code",
   "execution_count": 6,
   "id": "648fd1aa",
   "metadata": {},
   "outputs": [
    {
     "ename": "ValueError",
     "evalue": "invalid literal for int() with base 10: '%'",
     "output_type": "error",
     "traceback": [
      "\u001b[0;31m---------------------------------------------------------------------------\u001b[0m",
      "\u001b[0;31mValueError\u001b[0m                                Traceback (most recent call last)",
      "Input \u001b[0;32mIn [6]\u001b[0m, in \u001b[0;36m<cell line: 3>\u001b[0;34m()\u001b[0m\n\u001b[1;32m      1\u001b[0m \u001b[38;5;66;03m#(2)\u001b[39;00m\n\u001b[1;32m      2\u001b[0m \u001b[38;5;66;03m# invalid literal for int() with base 10: '20%'\u001b[39;00m\n\u001b[0;32m----> 3\u001b[0m n \u001b[38;5;241m=\u001b[39m \u001b[38;5;28;43mint\u001b[39;49m\u001b[43m(\u001b[49m\u001b[38;5;124;43m'\u001b[39;49m\u001b[38;5;124;43m%\u001b[39;49m\u001b[38;5;124;43m'\u001b[39;49m\u001b[43m)\u001b[49m\n",
      "\u001b[0;31mValueError\u001b[0m: invalid literal for int() with base 10: '%'"
     ]
    }
   ],
   "source": [
    "# 1.(2)\n",
    "# invalid literal for int() with base 10\n",
    "n = int('20%')"
   ]
  },
  {
   "cell_type": "code",
   "execution_count": 10,
   "id": "a0d36e57",
   "metadata": {},
   "outputs": [
    {
     "ename": "TypeError",
     "evalue": "unsupported operand type(s) for +: 'int' and 'str'",
     "output_type": "error",
     "traceback": [
      "\u001b[0;31m---------------------------------------------------------------------------\u001b[0m",
      "\u001b[0;31mTypeError\u001b[0m                                 Traceback (most recent call last)",
      "Input \u001b[0;32mIn [10]\u001b[0m, in \u001b[0;36m<cell line: 3>\u001b[0;34m()\u001b[0m\n\u001b[1;32m      1\u001b[0m \u001b[38;5;66;03m#(3)\u001b[39;00m\n\u001b[1;32m      2\u001b[0m \u001b[38;5;66;03m#unsupported operation type(s) for +\u001b[39;00m\n\u001b[0;32m----> 3\u001b[0m a \u001b[38;5;241m=\u001b[39m \u001b[38;5;241;43m100\u001b[39;49m\u001b[43m \u001b[49m\u001b[38;5;241;43m+\u001b[39;49m\u001b[43m \u001b[49m\u001b[38;5;124;43m'\u001b[39;49m\u001b[38;5;124;43m200\u001b[39;49m\u001b[38;5;124;43m'\u001b[39;49m\n",
      "\u001b[0;31mTypeError\u001b[0m: unsupported operand type(s) for +: 'int' and 'str'"
     ]
    }
   ],
   "source": [
    "# 1.(3)\n",
    "#unsupported operation type(s) for +\n",
    "a = 100 + '200'"
   ]
  },
  {
   "cell_type": "code",
   "execution_count": 11,
   "id": "3bb0d7b7",
   "metadata": {},
   "outputs": [],
   "source": [
    "### Lab8-2."
   ]
  },
  {
   "cell_type": "code",
   "execution_count": 5,
   "id": "45dafa43",
   "metadata": {},
   "outputs": [
    {
     "name": "stdout",
     "output_type": "stream",
     "text": [
      "0으로 나누어졌습니다.\n",
      "정수 x를 입력하세요: sk\n",
      "숫자를 입력하세요.\n",
      "Error :  [Errno 2] No such file or directory: 'myfile.txt'\n"
     ]
    }
   ],
   "source": [
    "try:\n",
    "    10 * (30 / 0)\n",
    "except ZeroDivisionError:\n",
    "    print('0으로 나누어졌습니다.')\n",
    "except Exception as e:\n",
    "    print('error : ',e)\n",
    "    \n",
    "try: \n",
    "    x = int(input('정수 x를 입력하세요: '))\n",
    "except ValueError:\n",
    "    print('숫자를 입력하세요.')\n",
    "except Exception as e:\n",
    "    print('입력값을 다시 확인하세요.')\n",
    "\n",
    "try:\n",
    "    import sys\n",
    "\n",
    "    f = open('myfile.txt')\n",
    "    s = f.readline()\n",
    "except Exception as e:\n",
    "    print('Error : ',e)"
   ]
  },
  {
   "cell_type": "markdown",
   "id": "647f8d16",
   "metadata": {},
   "source": [
    "### Lab 8-3"
   ]
  },
  {
   "cell_type": "code",
   "execution_count": 19,
   "id": "b7316b9d",
   "metadata": {},
   "outputs": [
    {
     "name": "stdout",
     "output_type": "stream",
     "text": [
      "a의 요소를 하나 선택하시오 : tka\n",
      "오류 : 입력 값이 정수나 실수가 아님\n"
     ]
    }
   ],
   "source": [
    "# 8-1\n",
    "\n",
    "a = [1, 2, 3, 4, 5]\n",
    "\n",
    "try:\n",
    "    num = int(input('a의 요소를 하나 선택하시오 : '))\n",
    "except ValueError:\n",
    "    print(\"오류 : 입력 값이 정수나 실수가 아님\")\n",
    "    \n",
    "else:\n",
    "    for i in range(len(a)):\n",
    "        if num == a[i]:\n",
    "            print('{} 은 {} 번째 요소입니다.'.format(a[i], i+1))\n",
    "            break\n"
   ]
  },
  {
   "cell_type": "markdown",
   "id": "f943d34a",
   "metadata": {},
   "source": [
    "### Lab 8-4"
   ]
  },
  {
   "cell_type": "code",
   "execution_count": 17,
   "id": "c1524a31",
   "metadata": {},
   "outputs": [],
   "source": [
    "#1\n",
    "\n",
    "f = open('numbers.txt','w')\n",
    "f.write('100\\n')\n",
    "f.write('200\\n')\n",
    "f.write('300\\n')\n",
    "f.write('400\\n')\n",
    "f.close()"
   ]
  },
  {
   "cell_type": "code",
   "execution_count": 25,
   "id": "0aa9e9c2",
   "metadata": {},
   "outputs": [],
   "source": [
    "#2\n",
    "\n",
    "f = open('we_will_rock.txt', 'w')\n",
    "\n",
    "f.write(\"Buddy, you're a body, make a big noise\\n\\\n",
    "Playing in the street, gonna be a big man someday\\n\\\n",
    "You got mud on your face, you big disgrace\\n\\\n",
    "Kicking your can all over the place, singin'\\n\\\n",
    "We will, we will rock you\\n\\\n",
    "We will, we will rock you\")\n",
    "        \n",
    "f.close()"
   ]
  },
  {
   "cell_type": "markdown",
   "id": "443e2847",
   "metadata": {},
   "source": [
    "### 8-5"
   ]
  },
  {
   "cell_type": "code",
   "execution_count": 22,
   "id": "020a7dd2",
   "metadata": {},
   "outputs": [
    {
     "name": "stdout",
     "output_type": "stream",
     "text": [
      "100\n",
      "200\n",
      "300\n",
      "400\n"
     ]
    }
   ],
   "source": [
    "#1\n",
    "\n",
    "f = open('numbers.txt','r')\n",
    "s = f.readline().rstrip()\n",
    "print(s)\n",
    "s = f.readline().rstrip()\n",
    "print(s)\n",
    "s = f.readline().rstrip()\n",
    "print(s)\n",
    "s = f.readline().rstrip()\n",
    "print(s)\n",
    "\n",
    "f.close()"
   ]
  },
  {
   "cell_type": "code",
   "execution_count": 23,
   "id": "0f55f289",
   "metadata": {},
   "outputs": [
    {
     "name": "stdout",
     "output_type": "stream",
     "text": [
      "Buddy, you're a body, make a big noise\n",
      "Playing in the street, gonna be a big man someday\n",
      "You got mud on your face, you big disgrace\n",
      "Kicking your can all over the place, singin'\n",
      "We will, we will rock you\n",
      "We will, we will rock you\n"
     ]
    }
   ],
   "source": [
    "#2\n",
    "\n",
    "f = open('we_will_rock.txt', 'r')\n",
    "s = f.readline().rstrip()\n",
    "print(s)\n",
    "s = f.readline().rstrip()\n",
    "print(s)\n",
    "s = f.readline().rstrip()\n",
    "print(s)\n",
    "s = f.readline().rstrip()\n",
    "print(s)\n",
    "s = f.readline().rstrip()\n",
    "print(s)\n",
    "s = f.readline().rstrip()\n",
    "print(s)\n",
    "\n",
    "f.close()"
   ]
  },
  {
   "cell_type": "markdown",
   "id": "b896bbb6",
   "metadata": {},
   "source": [
    "### 8-6"
   ]
  },
  {
   "cell_type": "code",
   "execution_count": 28,
   "id": "38b1095b",
   "metadata": {},
   "outputs": [
    {
     "name": "stdout",
     "output_type": "stream",
     "text": [
      "입력할 파일의 이름 :we_will_rock.txt\n",
      "BUDDY, YOU'RE A BODY, MAKE A BIG NOISE\n",
      "PLAYING IN THE STREET, GONNA BE A BIG MAN SOMEDAY\n",
      "YOU GOT MUD ON YOUR FACE, YOU BIG DISGRACE\n",
      "KICKING YOUR CAN ALL OVER THE PLACE, SINGIN'\n",
      "WE WILL, WE WILL ROCK YOU\n",
      "WE WILL, WE WILL ROCK YOU\n"
     ]
    }
   ],
   "source": [
    "#1\n",
    "\n",
    "fname = input('입력할 파일의 이름 :')\n",
    "try:\n",
    "    f = open(fname,'r')\n",
    "except Exception as e:\n",
    "    print('Error :',e)\n",
    "else:\n",
    "    I = f.readline().rstrip()\n",
    "    while I:\n",
    "        print(I.upper())\n",
    "        I = f.readline().rstrip()\n"
   ]
  },
  {
   "cell_type": "code",
   "execution_count": 41,
   "id": "ceb8a1f9",
   "metadata": {},
   "outputs": [
    {
     "name": "stdout",
     "output_type": "stream",
     "text": [
      "입력할 파일의 이름 :we_will_rock.txt\n",
      "We will, we will rock you\n",
      "We will, we will rock you\n",
      "Kicking your can all over the place, singin'\n",
      "You got mud on your face, you big disgrace\n",
      "Playing in the street, gonna be a big man someday\n",
      "Buddy, you're a body, make a big noise\n"
     ]
    }
   ],
   "source": [
    "#2\n",
    "\n",
    "fname = input('입력할 파일의 이름 :')\n",
    "list_line = []\n",
    "try:\n",
    "    f = open(fname,'r')\n",
    "except Exception as e:\n",
    "    print('Error :',e)\n",
    "else:\n",
    "    I = f.readline().rstrip()\n",
    "    while I:\n",
    "        list_line.append(I)\n",
    "        I = f.readline().rstrip()\n",
    "    list_line = list_line[::-1]\n",
    "    for i in list_line:\n",
    "        print(i)"
   ]
  },
  {
   "cell_type": "code",
   "execution_count": null,
   "id": "e2ada462",
   "metadata": {},
   "outputs": [],
   "source": []
  }
 ],
 "metadata": {
  "kernelspec": {
   "display_name": "Python 3 (ipykernel)",
   "language": "python",
   "name": "python3"
  },
  "language_info": {
   "codemirror_mode": {
    "name": "ipython",
    "version": 3
   },
   "file_extension": ".py",
   "mimetype": "text/x-python",
   "name": "python",
   "nbconvert_exporter": "python",
   "pygments_lexer": "ipython3",
   "version": "3.9.12"
  }
 },
 "nbformat": 4,
 "nbformat_minor": 5
}
