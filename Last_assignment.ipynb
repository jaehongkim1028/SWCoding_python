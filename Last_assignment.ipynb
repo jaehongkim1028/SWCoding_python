{
 "cells": [
  {
   "cell_type": "markdown",
   "id": "ed7e3609",
   "metadata": {},
   "source": [
    "# 경북대학교 컴퓨터학부 2020117066 김재홍"
   ]
  },
  {
   "cell_type": "markdown",
   "id": "c2c86aed",
   "metadata": {},
   "source": [
    "## Project_Flow"
   ]
  },
  {
   "cell_type": "markdown",
   "id": "40831ada",
   "metadata": {},
   "source": [
    "## MySql과 연결 (Pymysql)"
   ]
  },
  {
   "cell_type": "code",
   "execution_count": 7,
   "id": "d420aa20",
   "metadata": {
    "scrolled": true
   },
   "outputs": [
    {
     "name": "stdout",
     "output_type": "stream",
     "text": [
      "Collecting pymysql\n",
      "  Downloading PyMySQL-1.0.2-py3-none-any.whl (43 kB)\n",
      "\u001b[K     |████████████████████████████████| 43 kB 1.4 MB/s eta 0:00:01\n",
      "\u001b[?25hInstalling collected packages: pymysql\n",
      "Successfully installed pymysql-1.0.2\n",
      "Note: you may need to restart the kernel to use updated packages.\n"
     ]
    }
   ],
   "source": [
    "pip install pymysql"
   ]
  },
  {
   "cell_type": "markdown",
   "id": "cf034308",
   "metadata": {},
   "source": [
    "### sql에 로컬 사용자 추가, DB권한 부여하기\n",
    "\n",
    "- 터미널에서 mysql -u root -p로 관리자 로그인\n",
    "mysql -u root -p\n",
    "\n",
    "- 로컬 사용자 추가\n",
    "mysql> CREATE user '사용자'@'localhost' IDENTIFIED BY '사용자_비밀번호';\n",
    "\n",
    "- DB 권한 부여하기\n",
    "mysql> GRANT ALL PRIVILEGES ON *.* to '사용자'@'localhost'; # 모든 DB에 접근 가능 *.*\n",
    "mysql> GRANT ALL PRIVILEGES ON db_name.* to '사용자'@'localhost'; # 특정 DB에만 접근 가능\n",
    "\n",
    "mysql> FLUSH PRIVILEGES; # 새로운 세팅 적용\n"
   ]
  },
  {
   "cell_type": "markdown",
   "id": "37bdc289",
   "metadata": {},
   "source": [
    "### Python으로 Mysql 접속"
   ]
  },
  {
   "cell_type": "code",
   "execution_count": 20,
   "id": "6bc0e362",
   "metadata": {},
   "outputs": [],
   "source": [
    "import pymysql\n",
    "\n",
    "connection = pymysql.connect(host='localhost', user='jh', password='1234',\n",
    "                            db = 'finance')\n",
    "# connection 으로부터 cursor 생성\n",
    "cur = connection.cursor()"
   ]
  },
  {
   "cell_type": "code",
   "execution_count": 21,
   "id": "ac38acf9",
   "metadata": {},
   "outputs": [
    {
     "name": "stdout",
     "output_type": "stream",
     "text": [
      "((60200, datetime.date(2022, 12, 5)),)\n"
     ]
    }
   ],
   "source": [
    "# sql문 생성 및 실행 및 fetch\n",
    "sql = \"SELECT * FROM SamsungElec\"\n",
    "#sql = \"CREATE TABLE SamsungElec( Price INT NOT NULL, Today_date DATE, PRIMARY KEY (Today_date));\"\n",
    "#sql = \"INSERT INTO SamsungElec VALUES (60200, '2022-12-05');\"\n",
    "cur.execute(sql)\n",
    "\n",
    "# data fetch\n",
    "rows = cur.fetchall()\n",
    "print(rows)\n",
    "\n",
    "# DB연결 종료\n",
    "# connection.close()"
   ]
  },
  {
   "cell_type": "markdown",
   "id": "1c219bbf",
   "metadata": {},
   "source": [
    "## Web crawling (requests, BeatifulSoup)\n",
    "HTML로부터 원하는 정보를 쉽게 가져오도록 비슷한 분류의 데이터별로 나누어주는 라이브러리"
   ]
  },
  {
   "cell_type": "code",
   "execution_count": 43,
   "id": "83c1b580",
   "metadata": {},
   "outputs": [
    {
     "name": "stdout",
     "output_type": "stream",
     "text": [
      "005930\n"
     ]
    }
   ],
   "source": [
    "import requests\n",
    "from bs4 import BeautifulSoup\n",
    "\n",
    "stock_number = { 'SamsungElec' : '005930' }\n",
    "print(stock_number['SamsungElec'])\n",
    "url = f\"https://finance.naver.com/item/main.naver?code={stock_number['SamsungElec']}\"\n",
    "\n",
    "response = requests.get(url)\n",
    "notice_page = response.text\n",
    "\n",
    "soup = BeautifulSoup(notice_page, 'html.parser') #beatifulsoup: HTML 코드의 데이터를 parser로 정리\n",
    "#print(soup.prettify())"
   ]
  },
  {
   "cell_type": "markdown",
   "id": "b4b16c1a",
   "metadata": {},
   "source": [
    "### 원하는 태그를 가져올 수 있도록하는 BeautifulSoup- select "
   ]
  },
  {
   "cell_type": "code",
   "execution_count": 55,
   "id": "2ca55503",
   "metadata": {},
   "outputs": [
    {
     "name": "stdout",
     "output_type": "stream",
     "text": [
      "[<span class=\"blind\">60,300</span>]\n"
     ]
    }
   ],
   "source": [
    "current_price = soup.select('div.today p.no_today em.no_down span.blind' )\n",
    "print(current_price)"
   ]
  },
  {
   "cell_type": "code",
   "execution_count": 64,
   "id": "6a9905fe",
   "metadata": {},
   "outputs": [
    {
     "name": "stdout",
     "output_type": "stream",
     "text": [
      "60,300\n",
      "60300\n"
     ]
    }
   ],
   "source": [
    "for tag in current_price:\n",
    "    temp = tag.get_text().strip()\n",
    "print(temp)\n",
    "temp = temp.replace(',','')\n",
    "print(temp)"
   ]
  },
  {
   "cell_type": "code",
   "execution_count": null,
   "id": "8e9fc0de",
   "metadata": {},
   "outputs": [],
   "source": []
  }
 ],
 "metadata": {
  "kernelspec": {
   "display_name": "Python 3 (ipykernel)",
   "language": "python",
   "name": "python3"
  },
  "language_info": {
   "codemirror_mode": {
    "name": "ipython",
    "version": 3
   },
   "file_extension": ".py",
   "mimetype": "text/x-python",
   "name": "python",
   "nbconvert_exporter": "python",
   "pygments_lexer": "ipython3",
   "version": "3.9.12"
  }
 },
 "nbformat": 4,
 "nbformat_minor": 5
}
