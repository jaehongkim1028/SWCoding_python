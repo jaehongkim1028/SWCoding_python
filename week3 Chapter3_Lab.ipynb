{
 "cells": [
  {
   "cell_type": "markdown",
   "id": "5d0fcb2e",
   "metadata": {},
   "source": [
    "\n",
    "# Lab 3-1     2020117066 김재홍"
   ]
  },
  {
   "cell_type": "code",
   "execution_count": 2,
   "id": "27364597",
   "metadata": {},
   "outputs": [
    {
     "name": "stdout",
     "output_type": "stream",
     "text": [
      "game_score = 1\n",
      "game_score = 1\n"
     ]
    }
   ],
   "source": [
    "#1\n",
    "score = int(input(\"game_score = \"))\n",
    "\n",
    "print(\"game_score =\", score)\n",
    "if score >= 1000 :\n",
    "    print(\"당신은 고수입니다.\") \n"
   ]
  },
  {
   "cell_type": "code",
   "execution_count": 3,
   "id": "9a803d8b",
   "metadata": {},
   "outputs": [
    {
     "name": "stdout",
     "output_type": "stream",
     "text": [
      "num_a =2\n",
      "num_b =2\n",
      "num_a = 2, num_b = 2\n",
      "두 값이 일치합니다.\n"
     ]
    }
   ],
   "source": [
    "#Lab 3-1\n",
    "#2\n",
    "num_a = int(input(\"num_a =\"))\n",
    "num_b = int(input(\"num_b =\"))\n",
    "\n",
    "print(\"num_a = {}, num_b = {}\".format(num_a, num_b))\n",
    "if num_a == num_b:\n",
    "    print(\"두 값이 일치합니다.\")"
   ]
  },
  {
   "cell_type": "markdown",
   "id": "97e31797",
   "metadata": {},
   "source": [
    "# Lab 3-2"
   ]
  },
  {
   "cell_type": "code",
   "execution_count": 4,
   "id": "a58feb07",
   "metadata": {},
   "outputs": [
    {
     "name": "stdout",
     "output_type": "stream",
     "text": [
      "정수를 입력하세요 : 2\n",
      "n = 2\n",
      "2 은(는) 짝수입니다.\n"
     ]
    }
   ],
   "source": [
    "#1\n",
    "num = int(input(\"정수를 입력하세요 : \"))\n",
    "\n",
    "'''num이 범위 밖인 경우 다시 입력'''\n",
    "while num >= 100 or num <= 1:\n",
    "    print(\"1에서 100사이의 정수를 입력하세요.\")\n",
    "    num = int(input(\"정수를 입력하세요 : \"))\n",
    "\n",
    "print(\"n = {}\".format(num))\n",
    "if num %2 == 0 :\n",
    "    print(\"{} 은(는) 짝수입니다.\".format(num))\n"
   ]
  },
  {
   "cell_type": "code",
   "execution_count": 5,
   "id": "d7208840",
   "metadata": {
    "scrolled": true
   },
   "outputs": [
    {
     "name": "stdout",
     "output_type": "stream",
     "text": [
      "정수를 입력하세요 : 2\n",
      "x = 2\n",
      "2는 자연수입니다.\n"
     ]
    }
   ],
   "source": [
    "#2\n",
    "num = int(input(\"정수를 입력하세요 : \"))\n",
    "\n",
    "'''num이 범위 밖인 경우 다시 입력'''\n",
    "while num >= 100 or num <= -100:\n",
    "    print(\"-100에서 100사이의 정수를 입력하세요.\")\n",
    "    num = int(input(\"정수를 입력하세요 : \"))\n",
    "    \n",
    "print(\"x = {}\".format(num))\n",
    "if num > 0 :\n",
    "    print(\"{}는 자연수입니다.\".format(num))"
   ]
  },
  {
   "cell_type": "markdown",
   "id": "6cb7cfc9",
   "metadata": {},
   "source": [
    "# Lab 3-3"
   ]
  },
  {
   "cell_type": "code",
   "execution_count": 6,
   "id": "30506763",
   "metadata": {},
   "outputs": [
    {
     "name": "stdout",
     "output_type": "stream",
     "text": [
      "game_score = 100\n",
      "game_score = 100\n",
      "입문자입니다.\n"
     ]
    }
   ],
   "source": [
    "#1\n",
    "score = int(input(\"game_score = \"))\n",
    "\n",
    "print(\"game_score =\", score)\n",
    "if score >= 1000 :\n",
    "    print(\"고수입니다.\") \n",
    "else :\n",
    "    print(\"입문자입니다.\")"
   ]
  },
  {
   "cell_type": "code",
   "execution_count": 8,
   "id": "f006deca",
   "metadata": {},
   "outputs": [
    {
     "name": "stdout",
     "output_type": "stream",
     "text": [
      "한 정수를 입력하시오 : 1\n",
      "다른 정수를 입력하시오 : 2\n",
      "두 값이 일치하지 않습니다.\n"
     ]
    }
   ],
   "source": [
    "#2\n",
    "num_a = int(input(\"한 정수를 입력하시오 : \"))\n",
    "num_b = int(input(\"다른 정수를 입력하시오 : \"))\n",
    "\n",
    "if num_a == num_b:\n",
    "    print(\"두 값이 일치합니다.\")\n",
    "else:\n",
    "    print(\"두 값이 일치하지 않습니다.\")"
   ]
  },
  {
   "cell_type": "code",
   "execution_count": 20,
   "id": "e6275b91",
   "metadata": {},
   "outputs": [
    {
     "name": "stdout",
     "output_type": "stream",
     "text": [
      "당신은 성인인가요(성인이면 1, 미성년이면 0)1\n",
      "결혼을 하셨나요(기혼이면 1, 미혼이면0)1\n",
      "당신은 결혼한 성인입니다.\n"
     ]
    }
   ],
   "source": [
    "#3\n",
    "age = int(input(\"당신은 성인인가요(성인이면 1, 미성년이면 0)\"))\n",
    "if age == 0: \n",
    "    print(\"당신은 미성년자입니다.\")\n",
    "\n",
    "else:\n",
    "    marriage = int(input(\"결혼을 하셨나요(기혼이면 1, 미혼이면0)\"))\n",
    "    if marriage == 0:\n",
    "        print(\"당신은 결혼하지 않은 성인입니다.\")\n",
    "    else:\n",
    "        print(\"당신은 결혼한 성인입니다.\")\n"
   ]
  },
  {
   "cell_type": "markdown",
   "id": "f0730a4b",
   "metadata": {},
   "source": [
    "# Lab 3-4\n",
    "\n",
    "### 1. and 연산자를 사용하여 num변수가 1과 10사이의 값을 가지면 True를 출력하는 부울식을 완성하여라.\n",
    "\n",
    "### 2. and연산자를 사용하여 age가 10보다 크고 19보다 작으면 '청소년입니다.'를 출력하는 부울식을 작성하여라.\n"
   ]
  },
  {
   "cell_type": "code",
   "execution_count": 1,
   "id": "303794f6",
   "metadata": {},
   "outputs": [
    {
     "name": "stdout",
     "output_type": "stream",
     "text": [
      "num = 2\n",
      "True\n"
     ]
    }
   ],
   "source": [
    "#1\n",
    "\n",
    "num = int(input(\"num = \"))\n",
    "if num > 1 and num < 10 :\n",
    "    print(\"True\")\n",
    "    "
   ]
  },
  {
   "cell_type": "code",
   "execution_count": 3,
   "id": "69b2e115-a809-4171-9475-e7b52b63394a",
   "metadata": {},
   "outputs": [
    {
     "name": "stdin",
     "output_type": "stream",
     "text": [
      "age = 12\n"
     ]
    },
    {
     "name": "stdout",
     "output_type": "stream",
     "text": [
      "청소년입니다.\n"
     ]
    }
   ],
   "source": [
    "#2\n",
    "\n",
    "age = int(input(\"age =\"))\n",
    "if age > 10 and age < 19:\n",
    "    print(\"청소년입니다.\")"
   ]
  },
  {
   "cell_type": "markdown",
   "id": "b4e29dff",
   "metadata": {},
   "source": [
    "# Lab 3-5\n",
    "\n",
    "### 1. 사용자로부터 자동차의속도(speed)를 km/h 단위의 정수로 입력받도록 하자. 자동차의 속도가 100km/h 이상이면 '고속', 100km/h 미만 60km/h 이상이면 '중속', 60km/h 미만이면 '저속'을 출력하는 프로그램을 if-elif-else 문을 이용하여 작성하여라.\n",
    "\n",
    "### 2. 미세먼지 농도 예보 기준이 다음과 같을 때 미세먼지 농도를 정수 값으로 입력받아 '좋음', '보통', '나쁨', '매우 나쁨'을 출력하는 코드를 작성하여라. 좋음 0~15, 보통 16~35, 나쁨 36~75, 매우 나쁨 76이상"
   ]
  },
  {
   "cell_type": "code",
   "execution_count": 8,
   "id": "c7eec324",
   "metadata": {
    "scrolled": true
   },
   "outputs": [
    {
     "name": "stdout",
     "output_type": "stream",
     "text": [
      "자동차의 속도를 입력하세요(단위: km/h)100\n",
      "고속\n"
     ]
    }
   ],
   "source": [
    "#1\n",
    "\n",
    "speed = int(input(\"자동차의 속도를 입력하세요(단위: km/h)\"))\n",
    "\n",
    "if speed >= 100: \n",
    "    print(\"고속\")\n",
    "elif speed >= 60:\n",
    "    print(\"중속\")\n",
    "else:\n",
    "    print(\"저속\")\n"
   ]
  },
  {
   "cell_type": "code",
   "execution_count": 9,
   "id": "f06d07b2",
   "metadata": {},
   "outputs": [
    {
     "name": "stdout",
     "output_type": "stream",
     "text": [
      "미세먼지 농도를 입력하세요(단위: microgram/m^3)22\n",
      "보통\n"
     ]
    }
   ],
   "source": [
    "#2\n",
    "\n",
    "dense = int(input(\"미세먼지 농도를 입력하세요(단위: microgram/m^3)\"))\n",
    "\n",
    "if dense >= 76 :\n",
    "    print(\"매우 나쁨\")\n",
    "elif dense >= 36 :\n",
    "    print(\"나쁨\")\n",
    "elif dense >= 16 :\n",
    "    print(\"보통\")\n",
    "elif dense >= 0 :\n",
    "    print(\"좋음\")"
   ]
  },
  {
   "cell_type": "markdown",
   "id": "18424460",
   "metadata": {},
   "source": [
    "# Lab 3-6 \n",
    "\n",
    "### 1. for 반복문에서 언더스코어 루프 제어변수를 사용하여 Hello, Python을 5번 출력하는 프로그램을 작성해보자.\n",
    "### 2. i라는 루프변수를 사용해서 0에서 4까지의 정수를 출력하는 프로그램을 작성하시오."
   ]
  },
  {
   "cell_type": "code",
   "execution_count": 10,
   "id": "eb3d26dd",
   "metadata": {},
   "outputs": [
    {
     "name": "stdout",
     "output_type": "stream",
     "text": [
      "Hello, Python\n",
      "Hello, Python\n",
      "Hello, Python\n",
      "Hello, Python\n",
      "Hello, Python\n"
     ]
    }
   ],
   "source": [
    "#1\n",
    "\n",
    "for _ in range(5) :\n",
    "    print(\"Hello, Python\")\n"
   ]
  },
  {
   "cell_type": "code",
   "execution_count": 12,
   "id": "1b62e6ab-8aea-4ee0-9f22-a5ba772ef192",
   "metadata": {},
   "outputs": [
    {
     "name": "stdout",
     "output_type": "stream",
     "text": [
      "0\n",
      "1\n",
      "2\n",
      "3\n",
      "4\n"
     ]
    }
   ],
   "source": [
    "#2\n",
    "\n",
    "for i in range(5) :\n",
    "    print(i)"
   ]
  },
  {
   "cell_type": "markdown",
   "id": "c0eb41d5",
   "metadata": {},
   "source": [
    "# Lab 3-7\n",
    "\n",
    "### 1. range() 함수와 list() 함수를 사용하여 1이상 100이하의 자연수 리스트를 다음과 같이 만드시오. [1, 2, 3, 4, (생략), 100]\n",
    "\n",
    "### 2. 1이상 100 이하의 짝수 리스트를 만드시오.\n",
    "\n",
    "### 3. 1이상 100 이하의 홀수 리스트를 만드시오.\n",
    "\n",
    "### 4. -100보다 크고 0보다 작은 음수 리스트를 만드시오."
   ]
  },
  {
   "cell_type": "code",
   "execution_count": 14,
   "id": "a13c4536",
   "metadata": {},
   "outputs": [
    {
     "data": {
      "text/plain": [
       "[1,\n",
       " 2,\n",
       " 3,\n",
       " 4,\n",
       " 5,\n",
       " 6,\n",
       " 7,\n",
       " 8,\n",
       " 9,\n",
       " 10,\n",
       " 11,\n",
       " 12,\n",
       " 13,\n",
       " 14,\n",
       " 15,\n",
       " 16,\n",
       " 17,\n",
       " 18,\n",
       " 19,\n",
       " 20,\n",
       " 21,\n",
       " 22,\n",
       " 23,\n",
       " 24,\n",
       " 25,\n",
       " 26,\n",
       " 27,\n",
       " 28,\n",
       " 29,\n",
       " 30,\n",
       " 31,\n",
       " 32,\n",
       " 33,\n",
       " 34,\n",
       " 35,\n",
       " 36,\n",
       " 37,\n",
       " 38,\n",
       " 39,\n",
       " 40,\n",
       " 41,\n",
       " 42,\n",
       " 43,\n",
       " 44,\n",
       " 45,\n",
       " 46,\n",
       " 47,\n",
       " 48,\n",
       " 49,\n",
       " 50,\n",
       " 51,\n",
       " 52,\n",
       " 53,\n",
       " 54,\n",
       " 55,\n",
       " 56,\n",
       " 57,\n",
       " 58,\n",
       " 59,\n",
       " 60,\n",
       " 61,\n",
       " 62,\n",
       " 63,\n",
       " 64,\n",
       " 65,\n",
       " 66,\n",
       " 67,\n",
       " 68,\n",
       " 69,\n",
       " 70,\n",
       " 71,\n",
       " 72,\n",
       " 73,\n",
       " 74,\n",
       " 75,\n",
       " 76,\n",
       " 77,\n",
       " 78,\n",
       " 79,\n",
       " 80,\n",
       " 81,\n",
       " 82,\n",
       " 83,\n",
       " 84,\n",
       " 85,\n",
       " 86,\n",
       " 87,\n",
       " 88,\n",
       " 89,\n",
       " 90,\n",
       " 91,\n",
       " 92,\n",
       " 93,\n",
       " 94,\n",
       " 95,\n",
       " 96,\n",
       " 97,\n",
       " 98,\n",
       " 99,\n",
       " 100]"
      ]
     },
     "execution_count": 14,
     "metadata": {},
     "output_type": "execute_result"
    }
   ],
   "source": [
    "#1.\n",
    "\n",
    "list(range(1,101)) \n",
    "   "
   ]
  },
  {
   "cell_type": "code",
   "execution_count": 15,
   "id": "7b5d5985",
   "metadata": {},
   "outputs": [
    {
     "data": {
      "text/plain": [
       "[2,\n",
       " 4,\n",
       " 6,\n",
       " 8,\n",
       " 10,\n",
       " 12,\n",
       " 14,\n",
       " 16,\n",
       " 18,\n",
       " 20,\n",
       " 22,\n",
       " 24,\n",
       " 26,\n",
       " 28,\n",
       " 30,\n",
       " 32,\n",
       " 34,\n",
       " 36,\n",
       " 38,\n",
       " 40,\n",
       " 42,\n",
       " 44,\n",
       " 46,\n",
       " 48,\n",
       " 50,\n",
       " 52,\n",
       " 54,\n",
       " 56,\n",
       " 58,\n",
       " 60,\n",
       " 62,\n",
       " 64,\n",
       " 66,\n",
       " 68,\n",
       " 70,\n",
       " 72,\n",
       " 74,\n",
       " 76,\n",
       " 78,\n",
       " 80,\n",
       " 82,\n",
       " 84,\n",
       " 86,\n",
       " 88,\n",
       " 90,\n",
       " 92,\n",
       " 94,\n",
       " 96,\n",
       " 98,\n",
       " 100]"
      ]
     },
     "execution_count": 15,
     "metadata": {},
     "output_type": "execute_result"
    }
   ],
   "source": [
    "#2\n",
    "\n",
    "list(range(2,101,2))"
   ]
  },
  {
   "cell_type": "code",
   "execution_count": 16,
   "id": "6d481930",
   "metadata": {},
   "outputs": [
    {
     "data": {
      "text/plain": [
       "[1,\n",
       " 3,\n",
       " 5,\n",
       " 7,\n",
       " 9,\n",
       " 11,\n",
       " 13,\n",
       " 15,\n",
       " 17,\n",
       " 19,\n",
       " 21,\n",
       " 23,\n",
       " 25,\n",
       " 27,\n",
       " 29,\n",
       " 31,\n",
       " 33,\n",
       " 35,\n",
       " 37,\n",
       " 39,\n",
       " 41,\n",
       " 43,\n",
       " 45,\n",
       " 47,\n",
       " 49,\n",
       " 51,\n",
       " 53,\n",
       " 55,\n",
       " 57,\n",
       " 59,\n",
       " 61,\n",
       " 63,\n",
       " 65,\n",
       " 67,\n",
       " 69,\n",
       " 71,\n",
       " 73,\n",
       " 75,\n",
       " 77,\n",
       " 79,\n",
       " 81,\n",
       " 83,\n",
       " 85,\n",
       " 87,\n",
       " 89,\n",
       " 91,\n",
       " 93,\n",
       " 95,\n",
       " 97,\n",
       " 99]"
      ]
     },
     "execution_count": 16,
     "metadata": {},
     "output_type": "execute_result"
    }
   ],
   "source": [
    "#3.\n",
    "\n",
    "list(range(1,100,2))"
   ]
  },
  {
   "cell_type": "code",
   "execution_count": 17,
   "id": "f76ccf3f",
   "metadata": {},
   "outputs": [
    {
     "data": {
      "text/plain": [
       "[-100,\n",
       " -99,\n",
       " -98,\n",
       " -97,\n",
       " -96,\n",
       " -95,\n",
       " -94,\n",
       " -93,\n",
       " -92,\n",
       " -91,\n",
       " -90,\n",
       " -89,\n",
       " -88,\n",
       " -87,\n",
       " -86,\n",
       " -85,\n",
       " -84,\n",
       " -83,\n",
       " -82,\n",
       " -81,\n",
       " -80,\n",
       " -79,\n",
       " -78,\n",
       " -77,\n",
       " -76,\n",
       " -75,\n",
       " -74,\n",
       " -73,\n",
       " -72,\n",
       " -71,\n",
       " -70,\n",
       " -69,\n",
       " -68,\n",
       " -67,\n",
       " -66,\n",
       " -65,\n",
       " -64,\n",
       " -63,\n",
       " -62,\n",
       " -61,\n",
       " -60,\n",
       " -59,\n",
       " -58,\n",
       " -57,\n",
       " -56,\n",
       " -55,\n",
       " -54,\n",
       " -53,\n",
       " -52,\n",
       " -51,\n",
       " -50,\n",
       " -49,\n",
       " -48,\n",
       " -47,\n",
       " -46,\n",
       " -45,\n",
       " -44,\n",
       " -43,\n",
       " -42,\n",
       " -41,\n",
       " -40,\n",
       " -39,\n",
       " -38,\n",
       " -37,\n",
       " -36,\n",
       " -35,\n",
       " -34,\n",
       " -33,\n",
       " -32,\n",
       " -31,\n",
       " -30,\n",
       " -29,\n",
       " -28,\n",
       " -27,\n",
       " -26,\n",
       " -25,\n",
       " -24,\n",
       " -23,\n",
       " -22,\n",
       " -21,\n",
       " -20,\n",
       " -19,\n",
       " -18,\n",
       " -17,\n",
       " -16,\n",
       " -15,\n",
       " -14,\n",
       " -13,\n",
       " -12,\n",
       " -11,\n",
       " -10,\n",
       " -9,\n",
       " -8,\n",
       " -7,\n",
       " -6,\n",
       " -5,\n",
       " -4,\n",
       " -3,\n",
       " -2,\n",
       " -1]"
      ]
     },
     "execution_count": 17,
     "metadata": {},
     "output_type": "execute_result"
    }
   ],
   "source": [
    "#4.\n",
    "\n",
    "list(range(-100,0))"
   ]
  },
  {
   "cell_type": "markdown",
   "id": "213b3895",
   "metadata": {},
   "source": [
    "# Lab 3-8\n",
    "\n",
    "### 1. 누적 덧셈을 응용하여 1에서 100까지의 정수의 합을 구하여 출력하여라\n",
    "\n",
    "### 2. range() 함수의 step 값을 이용하여 1에서 100까지 정수 중에서 짝수의 합을 구하여 출력하여라.\n",
    "\n",
    "### 3. range() 함수의 step 값을 이용하여 1에서 100까지 정수 중에서 홀수의 합을 구하여 출력하여라."
   ]
  },
  {
   "cell_type": "code",
   "execution_count": 19,
   "id": "9701353f",
   "metadata": {},
   "outputs": [
    {
     "name": "stdout",
     "output_type": "stream",
     "text": [
      "5050\n"
     ]
    }
   ],
   "source": [
    "#1. \n",
    "\n",
    "sum = 0\n",
    "for i in range(1,101):\n",
    "    sum += i\n",
    "    \n",
    "print(sum)"
   ]
  },
  {
   "cell_type": "code",
   "execution_count": 20,
   "id": "0774c8a2",
   "metadata": {},
   "outputs": [
    {
     "name": "stdout",
     "output_type": "stream",
     "text": [
      "2550\n"
     ]
    }
   ],
   "source": [
    "#2.\n",
    "\n",
    "sum = 0\n",
    "for i in range(2, 101, 2):\n",
    "    sum += i\n",
    "\n",
    "print(sum)"
   ]
  },
  {
   "cell_type": "code",
   "execution_count": 21,
   "id": "ecbf92a1",
   "metadata": {},
   "outputs": [
    {
     "name": "stdout",
     "output_type": "stream",
     "text": [
      "2500\n"
     ]
    }
   ],
   "source": [
    "#3.\n",
    "\n",
    "sum = 0\n",
    "for i in range(1, 100, 2):\n",
    "    sum += i\n",
    "\n",
    "print(sum)"
   ]
  },
  {
   "cell_type": "markdown",
   "id": "e91b876d",
   "metadata": {},
   "source": [
    "# Lab 3-9\n",
    "\n",
    "### 1. 이중 for 루프를 이용하여 다음과 같은 패턴을 출력하여라.\n",
    "\n",
    "          #\n",
    "         #\n",
    "        #\n",
    "       #\n",
    "      #\n",
    "     #\n",
    "    #\n",
    " \n"
   ]
  },
  {
   "cell_type": "code",
   "execution_count": 22,
   "id": "a8d54a9e",
   "metadata": {},
   "outputs": [
    {
     "name": "stdout",
     "output_type": "stream",
     "text": [
      "       #\n",
      "      #\n",
      "     #\n",
      "    #\n",
      "   #\n",
      "  #\n",
      " #\n"
     ]
    }
   ],
   "source": [
    "for i in range(7,0,-1) :\n",
    "    print(' '*i + '#')\n",
    "    "
   ]
  },
  {
   "cell_type": "code",
   "execution_count": null,
   "id": "5073321a",
   "metadata": {},
   "outputs": [],
   "source": []
  }
 ],
 "metadata": {
  "kernelspec": {
   "display_name": "Python 3 (ipykernel)",
   "language": "python",
   "name": "python3"
  },
  "language_info": {
   "codemirror_mode": {
    "name": "ipython",
    "version": 3
   },
   "file_extension": ".py",
   "mimetype": "text/x-python",
   "name": "python",
   "nbconvert_exporter": "python",
   "pygments_lexer": "ipython3",
   "version": "3.9.12"
  }
 },
 "nbformat": 4,
 "nbformat_minor": 5
}
