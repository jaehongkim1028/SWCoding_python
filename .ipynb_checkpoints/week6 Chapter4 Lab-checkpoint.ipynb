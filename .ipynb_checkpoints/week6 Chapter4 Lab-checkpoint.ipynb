{
 "cells": [
  {
   "cell_type": "markdown",
   "id": "150c04a6",
   "metadata": {},
   "source": [
    "# 컴퓨터학부 2020117066 김재홍\n",
    "## Lab문제\n",
    "\n",
    "### Lab 4-1"
   ]
  },
  {
   "cell_type": "code",
   "execution_count": 2,
   "id": "5582a0e9",
   "metadata": {},
   "outputs": [
    {
     "name": "stdout",
     "output_type": "stream",
     "text": [
      "********************\n",
      "********************\n",
      "********************\n",
      "********************\n",
      "********************\n",
      "********************\n"
     ]
    }
   ],
   "source": [
    "# 1. 함수 호출문을 제거하면 만들어둔 함수를 사용하지 않는데\n",
    "\n",
    "# 2\n",
    "\n",
    "def print_Star():\n",
    "    print(\"********************\")\n",
    "    \n",
    "print_Star()\n",
    "print_Star()\n",
    "print_Star()\n",
    "print_Star()\n",
    "print_Star()\n",
    "print_Star()"
   ]
  },
  {
   "cell_type": "markdown",
   "id": "9a0d8cba",
   "metadata": {},
   "source": [
    "### Lab 4-2\n"
   ]
  },
  {
   "cell_type": "code",
   "execution_count": 3,
   "id": "2c7eb855",
   "metadata": {},
   "outputs": [
    {
     "name": "stdout",
     "output_type": "stream",
     "text": [
      "*********************\n",
      "*********************\n",
      "*********************\n",
      "*********************\n",
      "*********************\n",
      "*********************\n",
      "*********************\n",
      "*********************\n",
      "*********************\n",
      "*********************\n"
     ]
    }
   ],
   "source": [
    "def print_star5():\n",
    "    print('*********************')\n",
    "    print('*********************')\n",
    "    print('*********************')\n",
    "    print('*********************')\n",
    "    print('*********************')\n",
    "    \n",
    "    \n",
    "print_star5()\n",
    "print_star5()"
   ]
  },
  {
   "cell_type": "markdown",
   "id": "c357cbaf",
   "metadata": {},
   "source": [
    "### Lab 4-3"
   ]
  },
  {
   "cell_type": "code",
   "execution_count": 4,
   "id": "4feb10e3",
   "metadata": {},
   "outputs": [
    {
     "name": "stdout",
     "output_type": "stream",
     "text": [
      "#####################\n",
      "*********************\n",
      "+++++++++++++++++++++\n",
      "+++++++++++++++++++++\n",
      "*********************\n",
      "#####################\n"
     ]
    }
   ],
   "source": [
    "def print_star():\n",
    "    print('*********************')\n",
    "\n",
    "def print_plus():\n",
    "    print('+++++++++++++++++++++')\n",
    "    \n",
    "def print_hash():\n",
    "    print('#####################')\n",
    "    \n",
    "print_hash()\n",
    "print_star()\n",
    "print_plus()\n",
    "print_plus()\n",
    "print_star()\n",
    "print_hash()"
   ]
  },
  {
   "cell_type": "markdown",
   "id": "e61a0b99",
   "metadata": {},
   "source": [
    "#### Lab 4-4"
   ]
  },
  {
   "cell_type": "code",
   "execution_count": 5,
   "id": "11a1b64a",
   "metadata": {},
   "outputs": [
    {
     "name": "stdout",
     "output_type": "stream",
     "text": [
      "********************\n",
      "********************\n",
      "********************\n",
      "********************\n",
      "********************\n",
      "********************\n",
      "********************\n",
      "********************\n",
      "********************\n",
      "********************\n"
     ]
    }
   ],
   "source": [
    "#1\n",
    "\n",
    "def print_star(n):\n",
    "    for _ in range(n):\n",
    "        print('********************')\n",
    "        \n",
    "print_star(10)"
   ]
  },
  {
   "cell_type": "code",
   "execution_count": 6,
   "id": "dfdccde6",
   "metadata": {},
   "outputs": [
    {
     "name": "stdout",
     "output_type": "stream",
     "text": [
      "####################\n",
      "####################\n",
      "####################\n",
      "####################\n",
      "####################\n",
      "####################\n",
      "####################\n",
      "####################\n",
      "####################\n",
      "####################\n"
     ]
    }
   ],
   "source": [
    "#2\n",
    "def print_hash(n):\n",
    "    for _ in range(n):\n",
    "        print('####################')\n",
    "        \n",
    "print_hash(10)"
   ]
  },
  {
   "cell_type": "code",
   "execution_count": 7,
   "id": "27627557",
   "metadata": {},
   "outputs": [
    {
     "name": "stdout",
     "output_type": "stream",
     "text": [
      "####################\n",
      "####################\n",
      "####################\n",
      "####################\n",
      "####################\n",
      "####################\n"
     ]
    }
   ],
   "source": [
    "#3\n",
    "print_hash(6)"
   ]
  },
  {
   "cell_type": "code",
   "execution_count": 8,
   "id": "aaa6c550",
   "metadata": {},
   "outputs": [
    {
     "name": "stdout",
     "output_type": "stream",
     "text": [
      "0 ####################\n",
      "1 ####################\n",
      "2 ####################\n",
      "3 ####################\n",
      "4 ####################\n",
      "5 ####################\n"
     ]
    }
   ],
   "source": [
    "#4\n",
    "\n",
    "def print_hash(n):\n",
    "    for i in range(n):\n",
    "        print('{} ####################'.format(i))\n",
    "        \n",
    "print_hash(6)"
   ]
  },
  {
   "cell_type": "markdown",
   "id": "a7228764",
   "metadata": {},
   "source": [
    "### Lab 4-5"
   ]
  },
  {
   "cell_type": "code",
   "execution_count": 11,
   "id": "572b8c9e",
   "metadata": {
    "scrolled": true
   },
   "outputs": [
    {
     "name": "stdout",
     "output_type": "stream",
     "text": [
      "10과 20의 차는 -10입니다. \n"
     ]
    }
   ],
   "source": [
    "#1 \n",
    "\n",
    "def print_sub(a, b):\n",
    "    print('{}과 {}의 차는 {}입니다. '.format(a, b, a-b))\n",
    "\n",
    "print_sub(10, 20)"
   ]
  },
  {
   "cell_type": "code",
   "execution_count": 12,
   "id": "a3dea688",
   "metadata": {},
   "outputs": [
    {
     "name": "stdout",
     "output_type": "stream",
     "text": [
      "10과 20의 곱는 200입니다. \n"
     ]
    }
   ],
   "source": [
    "#2\n",
    "\n",
    "def print_mult(a, b):\n",
    "    print('{}과 {}의 곱는 {}입니다. '.format(a, b, a*b))\n",
    "\n",
    "\n",
    "print_mult(10, 20)"
   ]
  },
  {
   "cell_type": "markdown",
   "id": "e51651f6",
   "metadata": {},
   "source": [
    "### Lab 4-6"
   ]
  },
  {
   "cell_type": "code",
   "execution_count": 13,
   "id": "48999647",
   "metadata": {},
   "outputs": [
    {
     "name": "stdout",
     "output_type": "stream",
     "text": [
      "해는 3.0 또는 -7.0\n",
      "해는 4.0 또는 2.0\n"
     ]
    }
   ],
   "source": [
    "#1\n",
    "\n",
    "def print_root(a, b, c):\n",
    "    r1 = (-b + (b**2 -4*a*c)**0.5)/(2*a)\n",
    "    r2 = (-b - (b**2 -4*a*c)**0.5)/(2*a)\n",
    "    print('해는',r1,'또는',r2)\n",
    "    \n",
    "#(1)\n",
    "print_root(1,4,-21)\n",
    "#(2)\n",
    "print_root(1,-6,8)"
   ]
  },
  {
   "cell_type": "code",
   "execution_count": 28,
   "id": "b14faae9",
   "metadata": {},
   "outputs": [
    {
     "name": "stdout",
     "output_type": "stream",
     "text": [
      "밑변 10, 높이 20인 삼각형의 면적은 100\n"
     ]
    }
   ],
   "source": [
    "#2\n",
    "\n",
    "def print_area(width, height):\n",
    "    print('밑변 {}, 높이 {}인 삼각형의 면적은 {}'.format(width, height, width*height//2))\n",
    "    \n",
    "print_area(10,20)"
   ]
  },
  {
   "cell_type": "markdown",
   "id": "a1823dec",
   "metadata": {},
   "source": [
    "### Lab 4-7"
   ]
  },
  {
   "cell_type": "code",
   "execution_count": 35,
   "id": "4e31c6c3",
   "metadata": {},
   "outputs": [
    {
     "name": "stdout",
     "output_type": "stream",
     "text": [
      "반지름 10인 원의 면적은 314.0, 원의 둘레는 62.8\n"
     ]
    }
   ],
   "source": [
    "def circle_area_circum(radius):\n",
    "    area_ = radius**2*3.14\n",
    "    circum_ = radius*2*3.14\n",
    "    return area_, circum_\n",
    "\n",
    "radius = 10\n",
    "area, circum = circle_area_circum(radius)\n",
    "print('반지름 {}인 원의 면적은 {}, 원의 둘레는 {:.1f}'.format(radius, area, circum))"
   ]
  },
  {
   "cell_type": "markdown",
   "id": "5df84cce",
   "metadata": {},
   "source": [
    "### Lab 4-8"
   ]
  },
  {
   "cell_type": "code",
   "execution_count": null,
   "id": "ce1fba9d",
   "metadata": {},
   "outputs": [],
   "source": []
  }
 ],
 "metadata": {
  "kernelspec": {
   "display_name": "Python 3 (ipykernel)",
   "language": "python",
   "name": "python3"
  },
  "language_info": {
   "codemirror_mode": {
    "name": "ipython",
    "version": 3
   },
   "file_extension": ".py",
   "mimetype": "text/x-python",
   "name": "python",
   "nbconvert_exporter": "python",
   "pygments_lexer": "ipython3",
   "version": "3.9.12"
  }
 },
 "nbformat": 4,
 "nbformat_minor": 5
}
