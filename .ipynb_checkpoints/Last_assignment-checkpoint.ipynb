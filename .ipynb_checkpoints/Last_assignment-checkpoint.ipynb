{
 "cells": [
  {
   "cell_type": "markdown",
   "id": "db4fa2f1",
   "metadata": {},
   "source": [
    "# 경북대학교 컴퓨터학부 2020117066 김재홍"
   ]
  },
  {
   "cell_type": "markdown",
   "id": "bfa933e9",
   "metadata": {},
   "source": [
    "## Project_Flow"
   ]
  },
  {
   "cell_type": "markdown",
   "id": "fed91f05",
   "metadata": {},
   "source": [
    "## MySql과 연결 (Pymysql)"
   ]
  },
  {
   "cell_type": "code",
   "execution_count": 7,
   "id": "86d7fe25",
   "metadata": {
    "scrolled": true
   },
   "outputs": [
    {
     "name": "stdout",
     "output_type": "stream",
     "text": [
      "Collecting pymysql\n",
      "  Downloading PyMySQL-1.0.2-py3-none-any.whl (43 kB)\n",
      "\u001b[K     |████████████████████████████████| 43 kB 1.4 MB/s eta 0:00:01\n",
      "\u001b[?25hInstalling collected packages: pymysql\n",
      "Successfully installed pymysql-1.0.2\n",
      "Note: you may need to restart the kernel to use updated packages.\n"
     ]
    }
   ],
   "source": [
    "pip install pymysql"
   ]
  },
  {
   "cell_type": "markdown",
   "id": "91a3ced7",
   "metadata": {},
   "source": [
    "### sql에 로컬 사용자 추가, DB권한 부여하기\n",
    "\n",
    "- 터미널에서 mysql -u root -p로 관리자 로그인\n",
    "mysql -u root -p\n",
    "\n",
    "- 로컬 사용자 추가\n",
    "mysql> CREATE user '사용자'@'localhost' IDENTIFIED BY '사용자_비밀번호';\n",
    "\n",
    "- DB 권한 부여하기\n",
    "mysql> GRANT ALL PRIVILEGES ON *.* to '사용자'@'localhost'; # 모든 DB에 접근 가능 *.*\n",
    "mysql> GRANT ALL PRIVILEGES ON db_name.* to '사용자'@'localhost'; # 특정 DB에만 접근 가능\n",
    "\n",
    "mysql> FLUSH PRIVILEGES; # 새로운 세팅 적용\n"
   ]
  },
  {
   "cell_type": "markdown",
   "id": "fa1a41ab",
   "metadata": {},
   "source": [
    "### Python으로 Mysql 접속"
   ]
  },
  {
   "cell_type": "code",
   "execution_count": 20,
   "id": "e3c98729",
   "metadata": {},
   "outputs": [],
   "source": [
    "import pymysql\n",
    "\n",
    "connection = pymysql.connect(host='localhost', user='jh', password='1234',\n",
    "                            db = 'finance')\n",
    "# connection 으로부터 cursor 생성\n",
    "cur = connection.cursor()"
   ]
  },
  {
   "cell_type": "code",
   "execution_count": 21,
   "id": "afd62601",
   "metadata": {},
   "outputs": [
    {
     "name": "stdout",
     "output_type": "stream",
     "text": [
      "((60200, datetime.date(2022, 12, 5)),)\n"
     ]
    }
   ],
   "source": [
    "# sql문 생성 및 실행 및 fetch\n",
    "sql = \"SELECT * FROM SamsungElec\"\n",
    "#sql = \"CREATE TABLE SamsungElec( Price INT NOT NULL, Today_date DATE, PRIMARY KEY (Today_date));\"\n",
    "#sql = \"INSERT INTO SamsungElec VALUES (60200, '2022-12-05');\"\n",
    "cur.execute(sql)\n",
    "\n",
    "# data fetch\n",
    "rows = cur.fetchall()\n",
    "print(rows)\n",
    "\n",
    "# DB연결 종료\n",
    "# connection.close()"
   ]
  },
  {
   "cell_type": "markdown",
   "id": "c353ab60",
   "metadata": {},
   "source": [
    "## Web crawling (requests, BeatifulSoup)\n",
    "HTML로부터 원하는 정보를 쉽게 가져오도록 비슷한 분류의 데이터별로 나누어주는 라이브러리"
   ]
  },
  {
   "cell_type": "code",
   "execution_count": 36,
   "id": "2589f5dd",
   "metadata": {},
   "outputs": [
    {
     "ename": "NameError",
     "evalue": "name 'SamsungElec' is not defined",
     "output_type": "error",
     "traceback": [
      "\u001b[0;31m---------------------------------------------------------------------------\u001b[0m",
      "\u001b[0;31mNameError\u001b[0m                                 Traceback (most recent call last)",
      "Input \u001b[0;32mIn [36]\u001b[0m, in \u001b[0;36m<cell line: 4>\u001b[0;34m()\u001b[0m\n\u001b[1;32m      1\u001b[0m \u001b[38;5;28;01mimport\u001b[39;00m \u001b[38;5;21;01mrequests\u001b[39;00m\n\u001b[1;32m      2\u001b[0m \u001b[38;5;28;01mfrom\u001b[39;00m \u001b[38;5;21;01mbs4\u001b[39;00m \u001b[38;5;28;01mimport\u001b[39;00m BeautifulSoup\n\u001b[0;32m----> 4\u001b[0m stock_number \u001b[38;5;241m=\u001b[39m {\u001b[43mSamsungElec\u001b[49m: \u001b[38;5;124m'\u001b[39m\u001b[38;5;124m005930\u001b[39m\u001b[38;5;124m'\u001b[39m }\n\u001b[1;32m      5\u001b[0m \u001b[38;5;28mprint\u001b[39m(stock_number[SamsungElec])\n\u001b[1;32m      6\u001b[0m url \u001b[38;5;241m=\u001b[39m \u001b[38;5;124mf\u001b[39m\u001b[38;5;124m\"\u001b[39m\u001b[38;5;124mhttps://finance.naver.com/item/main.naver?code=\u001b[39m\u001b[38;5;132;01m{\u001b[39;00mstock_number[\u001b[38;5;124m'\u001b[39m\u001b[38;5;124mSamsungElec\u001b[39m\u001b[38;5;124m'\u001b[39m]\u001b[38;5;132;01m}\u001b[39;00m\u001b[38;5;124m\"\u001b[39m\n",
      "\u001b[0;31mNameError\u001b[0m: name 'SamsungElec' is not defined"
     ]
    }
   ],
   "source": [
    "import requests\n",
    "from bs4 import BeautifulSoup\n",
    "\n",
    "stock_number = { 'SamsungElec' : '005930' }\n",
    "print(stock_number[SamsungElec])\n",
    "url = f\"https://finance.naver.com/item/main.naver?code={stock_number['SamsungElec']}\"\n",
    "\n",
    "response = requests.get(url)\n",
    "notice_page = response.text\n",
    "\n",
    "soup = BeautifulSoup(notice_page, 'html.parser') #beatifulsoup: HTML 코드의 데이터를 parser로 정리\n",
    "# print(soup.prettify())"
   ]
  },
  {
   "cell_type": "markdown",
   "id": "70fd77ab",
   "metadata": {},
   "source": [
    "### 원하는 태그를 가져올 수 있도록하는 BeautifulSoup- select "
   ]
  },
  {
   "cell_type": "code",
   "execution_count": null,
   "id": "68739408",
   "metadata": {},
   "outputs": [],
   "source": [
    "notice_t"
   ]
  }
 ],
 "metadata": {
  "kernelspec": {
   "display_name": "Python 3 (ipykernel)",
   "language": "python",
   "name": "python3"
  },
  "language_info": {
   "codemirror_mode": {
    "name": "ipython",
    "version": 3
   },
   "file_extension": ".py",
   "mimetype": "text/x-python",
   "name": "python",
   "nbconvert_exporter": "python",
   "pygments_lexer": "ipython3",
   "version": "3.9.12"
  }
 },
 "nbformat": 4,
 "nbformat_minor": 5
}
