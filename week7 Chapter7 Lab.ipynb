{
 "cells": [
  {
   "cell_type": "markdown",
   "id": "526ce2fa",
   "metadata": {},
   "source": [
    "# 2020117066 김재홍\n",
    "\n",
    "## Chapter7 Lap problem\n",
    "\n",
    "### Lab 7-1\n"
   ]
  },
  {
   "cell_type": "code",
   "execution_count": 14,
   "id": "7d497103",
   "metadata": {},
   "outputs": [
    {
     "name": "stdout",
     "output_type": "stream",
     "text": [
      "오늘의 날짜 : 2019년 2월 19일\n",
      "현재시간 : 오후 6시 50분 11초\n"
     ]
    }
   ],
   "source": [
    "import datetime as dt\n",
    "\n",
    "today = dt.datetime.now()\n",
    "today = today.replace(year = 2019, month = 2, day = 19, hour = 18, minute = 50, second = 11)\n",
    "\n",
    "hour_int = int(today.hour)\n",
    "option_hour = '오전'\n",
    "if hour_int >= 12:\n",
    "    option_hour = '오후'\n",
    "    if hour_int >= 13:\n",
    "        hour_int -= 12\n",
    "\n",
    "print(\"오늘의 날짜 : {}년 {}월 {}일\".format(today.year, today.month, today.day))\n",
    "\n",
    "print(\"현재시간 : {} {}시 {}분 {}초\".format(option_hour, hour_int, today.minute, today.second))"
   ]
  },
  {
   "cell_type": "markdown",
   "id": "a628aeaa",
   "metadata": {},
   "source": [
    "### Lab 7-2"
   ]
  },
  {
   "cell_type": "code",
   "execution_count": 18,
   "id": "3ece6993",
   "metadata": {},
   "outputs": [
    {
     "name": "stdout",
     "output_type": "stream",
     "text": [
      "오늘은 2022년 10월 17일입니다\n",
      "2025년 크리스마스 까지는 1164일 5시간 남았습니다.\n"
     ]
    }
   ],
   "source": [
    "#1\n",
    "\n",
    "import datetime as dt\n",
    "\n",
    "today = dt.datetime.now()\n",
    "chirstmas25 = dt.datetime(2025, 12, 25)\n",
    "\n",
    "time_gap = chirstmas25 - today\n",
    "\n",
    "print('오늘은 {}년 {}월 {}일입니다'.format(today.year, today.month, today.day)) \n",
    "print('2025년 크리스마스 까지는 {}일 {}시간 남았습니다.'.format( \\\n",
    "time_gap.days,time_gap.seconds // 3600))\n"
   ]
  },
  {
   "cell_type": "code",
   "execution_count": 19,
   "id": "2a536afb",
   "metadata": {},
   "outputs": [
    {
     "name": "stdout",
     "output_type": "stream",
     "text": [
      "오늘은 2022년 10월 17일입니다\n",
      "2036년 새해 까지는 4823일 5시간 남았습니다.\n"
     ]
    }
   ],
   "source": [
    "#2\n",
    "\n",
    "import datetime as dt\n",
    "\n",
    "today = dt.datetime.now()\n",
    "day2036 = dt.datetime(2036, 1, 1)\n",
    "\n",
    "time_gap = day2036 - today\n",
    "print('오늘은 {}년 {}월 {}일입니다'.format(today.year, today.month, today.day)) \n",
    "print('2036년 새해 까지는 {}일 {}시간 남았습니다.'.format( \\\n",
    "time_gap.days,time_gap.seconds // 3600))\n"
   ]
  },
  {
   "cell_type": "code",
   "execution_count": 21,
   "id": "9a8cee27",
   "metadata": {},
   "outputs": [
    {
     "name": "stdout",
     "output_type": "stream",
     "text": [
      "오늘은 2022년 10월 17일입니다\n",
      "2022년 생일 까지는 10일 5시간 남았습니다.\n"
     ]
    }
   ],
   "source": [
    "#3\n",
    "\n",
    "import datetime as dt\n",
    "\n",
    "today = dt.datetime.now()\n",
    "next_mybirthday = dt.datetime(2022, 10, 28)\n",
    "\n",
    "time_gap = next_mybirthday - today\n",
    "print('오늘은 {}년 {}월 {}일입니다'.format(today.year, today.month, today.day)) \n",
    "print('2022년 생일 까지는 {}일 {}시간 남았습니다.'.format( \\\n",
    "time_gap.days,time_gap.seconds // 3600))"
   ]
  },
  {
   "cell_type": "markdown",
   "id": "5bc35136",
   "metadata": {},
   "source": [
    "### Lab 7-3"
   ]
  },
  {
   "cell_type": "code",
   "execution_count": 24,
   "id": "343e25b1",
   "metadata": {},
   "outputs": [
    {
     "name": "stdout",
     "output_type": "stream",
     "text": [
      "오늘부터 1000일 후는 2025년 7월 13일 입니다.\n"
     ]
    }
   ],
   "source": [
    "#1\n",
    "\n",
    "import datetime as dt\n",
    "\n",
    "today = dt.datetime.now()\n",
    "thousand = dt.timedelta(days = 1000)\n",
    "\n",
    "after_thousand = today + thousand\n",
    "print(\"오늘부터 1000일 후는 {}년 {}월 {}일 입니다.\".format(after_thousand.year , after_thousand.month, after_thousand.day))"
   ]
  },
  {
   "cell_type": "code",
   "execution_count": 30,
   "id": "c6d16c5a",
   "metadata": {},
   "outputs": [
    {
     "name": "stdout",
     "output_type": "stream",
     "text": [
      "처음 사귄 연도와 월, 일을 입력하시오 :2019 3 30\n",
      "100일 기념일은 : 2019년 7월 7일 입니다.\n"
     ]
    }
   ],
   "source": [
    "#2\n",
    "\n",
    "import datetime as dt\n",
    "\n",
    "l_year, l_month, l_day = map(int,(input(\"처음 사귄 연도와 월, 일을 입력하시오 :\")).split())\n",
    "\n",
    "start_day = dt.datetime(l_year, l_month, l_day)\n",
    "hundred = dt.timedelta(days = 99)\n",
    "\n",
    "after_hund = start_day + hundred\n",
    "print(\"100일 기념일은 : {}년 {}월 {}일 입니다.\".format(after_hund.year, after_hund.month, after_hund.day))"
   ]
  },
  {
   "cell_type": "markdown",
   "id": "d32e185a",
   "metadata": {},
   "source": [
    "### Lab 7-4"
   ]
  },
  {
   "cell_type": "code",
   "execution_count": 38,
   "id": "96cca0f5",
   "metadata": {},
   "outputs": [
    {
     "name": "stdout",
     "output_type": "stream",
     "text": [
      "4**  2 =      16.0\n",
      "4**  3 =      64.0\n",
      "4**  4 =     256.0\n",
      "4**  5 =    1024.0\n",
      "4**  6 =    4096.0\n",
      "4**  7 =   16384.0\n",
      "4**  8 =   65536.0\n",
      "4**  9 =  262144.0\n",
      "4** 10 = 1048576.0\n"
     ]
    }
   ],
   "source": [
    "#1\n",
    "\n",
    "import math as m\n",
    "\n",
    "for i in range(2,11):\n",
    "    print(\"4** {:2} = {:>9.1f}\".format(i, m.pow(4,i)))"
   ]
  },
  {
   "cell_type": "code",
   "execution_count": 39,
   "id": "10aa684e",
   "metadata": {},
   "outputs": [
    {
     "name": "stdout",
     "output_type": "stream",
     "text": [
      "  0 degree = 0.000 radian\n",
      " 10 degree = 0.175 radian\n",
      " 20 degree = 0.349 radian\n",
      " 30 degree = 0.524 radian\n",
      " 40 degree = 0.698 radian\n",
      " 50 degree = 0.873 radian\n",
      " 60 degree = 1.047 radian\n",
      " 70 degree = 1.222 radian\n",
      " 80 degree = 1.396 radian\n",
      " 90 degree = 1.571 radian\n",
      "100 degree = 1.745 radian\n",
      "110 degree = 1.920 radian\n",
      "120 degree = 2.094 radian\n",
      "130 degree = 2.269 radian\n",
      "140 degree = 2.443 radian\n",
      "150 degree = 2.618 radian\n",
      "160 degree = 2.793 radian\n",
      "170 degree = 2.967 radian\n",
      "180 degree = 3.142 radian\n"
     ]
    }
   ],
   "source": [
    "#2\n",
    "\n",
    "import math as m\n",
    "\n",
    "for i in range(0, 190, 10):\n",
    "    print(\"{:3} degree = {:5.3f} radian\".format(i, m.radians(i)))"
   ]
  },
  {
   "cell_type": "code",
   "execution_count": 41,
   "id": "939011ee",
   "metadata": {},
   "outputs": [
    {
     "name": "stdout",
     "output_type": "stream",
     "text": [
      "sin(   0) = 0.00\n",
      "sin(  10) = 0.17\n",
      "sin(  20) = 0.34\n",
      "sin(  30) = 0.50\n",
      "sin(  40) = 0.64\n",
      "sin(  50) = 0.77\n",
      "sin(  60) = 0.87\n",
      "sin(  70) = 0.94\n",
      "sin(  80) = 0.98\n",
      "sin(  90) = 1.00\n",
      "sin( 100) = 0.98\n",
      "sin( 110) = 0.94\n",
      "sin( 120) = 0.87\n",
      "sin( 130) = 0.77\n",
      "sin( 140) = 0.64\n",
      "sin( 150) = 0.50\n",
      "sin( 160) = 0.34\n",
      "sin( 170) = 0.17\n",
      "sin( 180) = 0.00\n"
     ]
    }
   ],
   "source": [
    "#3\n",
    "\n",
    "import math as m\n",
    "\n",
    "for i in range(0, 190, 10):\n",
    "    print(\"sin({:4}) = {:4.2f}\".format(i, m.sin(m.radians(i))))"
   ]
  },
  {
   "cell_type": "markdown",
   "id": "27788150",
   "metadata": {},
   "source": [
    "### Lab 7-5"
   ]
  },
  {
   "cell_type": "code",
   "execution_count": 17,
   "id": "b21c41de",
   "metadata": {},
   "outputs": [
    {
     "name": "stdout",
     "output_type": "stream",
     "text": [
      "[75, 20, 70]\n"
     ]
    }
   ],
   "source": [
    "#1\n",
    "\n",
    "import random as rd\n",
    "\n",
    "num_list = []\n",
    "for _ in range(3):\n",
    "    num = rd.randrange(0,100,5)\n",
    "    num_list.append(num)\n",
    "\n",
    "print(num_list)"
   ]
  },
  {
   "cell_type": "code",
   "execution_count": 19,
   "id": "d78b8eb2",
   "metadata": {},
   "outputs": [
    {
     "name": "stdout",
     "output_type": "stream",
     "text": [
      "[9, 7, 3]\n"
     ]
    }
   ],
   "source": [
    "#2\n",
    "\n",
    "num_list = [2,3,4,5,6,7,8,9]\n",
    "num = rd.sample(num_list,3)\n",
    "    \n",
    "print(num)"
   ]
  },
  {
   "cell_type": "code",
   "execution_count": null,
   "id": "6c590f3f",
   "metadata": {},
   "outputs": [],
   "source": []
  }
 ],
 "metadata": {
  "kernelspec": {
   "display_name": "Python 3 (ipykernel)",
   "language": "python",
   "name": "python3"
  },
  "language_info": {
   "codemirror_mode": {
    "name": "ipython",
    "version": 3
   },
   "file_extension": ".py",
   "mimetype": "text/x-python",
   "name": "python",
   "nbconvert_exporter": "python",
   "pygments_lexer": "ipython3",
   "version": "3.9.12"
  }
 },
 "nbformat": 4,
 "nbformat_minor": 5
}
