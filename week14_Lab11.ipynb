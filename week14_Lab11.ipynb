{
 "cells": [
  {
   "cell_type": "markdown",
   "id": "a867540d",
   "metadata": {},
   "source": [
    "# 컴퓨터학부 2020117066 김재홍\n",
    "## Lab11\n",
    "### 11-1"
   ]
  },
  {
   "cell_type": "code",
   "execution_count": 2,
   "id": "7a7d3e3c",
   "metadata": {},
   "outputs": [
    {
     "data": {
      "text/plain": [
       "array([0, 1, 2, 3, 4, 5, 6, 7, 8, 9])"
      ]
     },
     "execution_count": 2,
     "metadata": {},
     "output_type": "execute_result"
    }
   ],
   "source": [
    "#1\n",
    "import numpy as np\n",
    "a = np.array([0, 1, 2, 3, 4, 5, 6, 7, 8, 9])\n",
    "a"
   ]
  },
  {
   "cell_type": "code",
   "execution_count": 6,
   "id": "479d21c9",
   "metadata": {},
   "outputs": [
    {
     "data": {
      "text/plain": [
       "array([0, 1, 2, 3, 4, 5, 6, 7, 8, 9])"
      ]
     },
     "execution_count": 6,
     "metadata": {},
     "output_type": "execute_result"
    }
   ],
   "source": [
    "#2\n",
    "a = []\n",
    "for i in range(0, 10):\n",
    "    a.append(i)\n",
    "b = np.array(a)\n",
    "b"
   ]
  },
  {
   "cell_type": "code",
   "execution_count": 7,
   "id": "1577bec2",
   "metadata": {},
   "outputs": [
    {
     "data": {
      "text/plain": [
       "array([0, 2, 4, 6, 8])"
      ]
     },
     "execution_count": 7,
     "metadata": {},
     "output_type": "execute_result"
    }
   ],
   "source": [
    "#3\n",
    "a = []\n",
    "for i in range(0, 10, 2):\n",
    "    a.append(i)\n",
    "c = np.array(a)\n",
    "c"
   ]
  },
  {
   "cell_type": "code",
   "execution_count": 10,
   "id": "6bbdf1c5",
   "metadata": {},
   "outputs": [
    {
     "name": "stdout",
     "output_type": "stream",
     "text": [
      "c.shape = (5,)\n",
      "c.ndim = 1\n",
      "c.dtype = int64\n",
      "c.size = 5\n",
      "c.itemsize = 8\n"
     ]
    }
   ],
   "source": [
    "#4\n",
    "a = []\n",
    "for i in range(0, 10, 2):\n",
    "    a.append(i)\n",
    "c = np.array(a)\n",
    "print('c.shape =', c.shape)\n",
    "print('c.ndim =', c.ndim)\n",
    "print('c.dtype =', c.dtype)\n",
    "print('c.size =', c.size)\n",
    "print('c.itemsize =', c.itemsize)"
   ]
  },
  {
   "cell_type": "markdown",
   "id": "aa109d26",
   "metadata": {},
   "source": [
    "### 11-2"
   ]
  },
  {
   "cell_type": "code",
   "execution_count": 17,
   "id": "c3b7e634",
   "metadata": {},
   "outputs": [
    {
     "name": "stdout",
     "output_type": "stream",
     "text": [
      "a = array( [23 45 67  7  2 30 34 82] )\n",
      "최댓값 : 82\n",
      "최솟값 : 2\n",
      "평균 : 36.25\n"
     ]
    }
   ],
   "source": [
    "#1 \n",
    "a = np.array([23, 45, 67, 7, 2, 30, 34, 82])\n",
    "print('a = array(',a,')')\n",
    "print('최댓값 : {}'.format(a.max()))\n",
    "print('최솟값 : {}'.format(a.min()))\n",
    "print('평균 : {}'.format(a.mean()))\n"
   ]
  },
  {
   "cell_type": "code",
   "execution_count": 21,
   "id": "5a82fb92",
   "metadata": {},
   "outputs": [
    {
     "name": "stdout",
     "output_type": "stream",
     "text": [
      "b = array( [44 85  2 32 79 60 71  2 49 37] )\n",
      "최댓값 : 85\n",
      "최솟값 : 2\n",
      "평균 : 46.1\n"
     ]
    }
   ],
   "source": [
    "#2 \n",
    "b = np.random.randint(0,99, size=10)\n",
    "print('b = array(',b,')')\n",
    "print('최댓값 : {}'.format(b.max()))\n",
    "print('최솟값 : {}'.format(b.min()))\n",
    "print('평균 : {}'.format(b.mean()))"
   ]
  },
  {
   "cell_type": "code",
   "execution_count": 23,
   "id": "a39d31fb",
   "metadata": {},
   "outputs": [
    {
     "name": "stdout",
     "output_type": "stream",
     "text": [
      "c = array( [23 45 67  7  2 30 34 82 44 85  2 32 79 60 71  2 49 37] )\n"
     ]
    }
   ],
   "source": [
    "#3\n",
    "c = np.append(a, b)\n",
    "print('c = array(,c,')')"
   ]
  },
  {
   "cell_type": "markdown",
   "id": "b2a5d5b6",
   "metadata": {},
   "source": [
    "### 11-3"
   ]
  },
  {
   "cell_type": "code",
   "execution_count": 33,
   "id": "adc1f5a4",
   "metadata": {},
   "outputs": [
    {
     "name": "stdout",
     "output_type": "stream",
     "text": [
      "a = [[1 2 3]\n",
      " [4 5 6]\n",
      " [7 8 9]]\n",
      "b = [[2 2 2]\n",
      " [2 2 2]\n",
      " [2 2 2]]\n",
      "a + b = [[ 3  4  5]\n",
      " [ 6  7  8]\n",
      " [ 9 10 11]]\n",
      "a - b = [[-1  0  1]\n",
      " [ 2  3  4]\n",
      " [ 5  6  7]]\n",
      "a * b = [[ 2  4  6]\n",
      " [ 8 10 12]\n",
      " [14 16 18]]\n",
      "a / b = [[0.5 1.  1.5]\n",
      " [2.  2.5 3. ]\n",
      " [3.5 4.  4.5]]\n",
      "a @ b = [[12 12 12]\n",
      " [30 30 30]\n",
      " [48 48 48]]\n",
      "a ** 2 = [[ 1  4  9]\n",
      " [16 25 36]\n",
      " [49 64 81]]\n"
     ]
    }
   ],
   "source": [
    "#1\n",
    "a = np.array([[1, 2, 3], [4, 5, 6], [7, 8, 9]])\n",
    "b = np.array([[2, 2, 2], [2, 2, 2], [2, 2, 2]])\n",
    "print('a =', a)\n",
    "print('b = {}'.format(b))\n",
    "\n",
    "print('a + b =', a + b)\n",
    "print('a - b =', a - b)\n",
    "print('a * b =', a * b)\n",
    "print('a / b =', a / b)\n",
    "print('a @ b =', a @ b)\n",
    "print('a ** 2 =', a ** 2)"
   ]
  },
  {
   "cell_type": "markdown",
   "id": "ea2e257a",
   "metadata": {},
   "source": [
    "### 11-4"
   ]
  },
  {
   "cell_type": "code",
   "execution_count": 37,
   "id": "65498f40",
   "metadata": {},
   "outputs": [
    {
     "name": "stdout",
     "output_type": "stream",
     "text": [
      "a1 =[[2 2 2]\n",
      " [2 2 2]\n",
      " [2 2 2]]\n"
     ]
    }
   ],
   "source": [
    "a1 = np.full((3, 3), 2)\n",
    "print('a1 =',end='')\n",
    "print(a1)"
   ]
  },
  {
   "cell_type": "code",
   "execution_count": 39,
   "id": "d51fda96",
   "metadata": {},
   "outputs": [
    {
     "name": "stdout",
     "output_type": "stream",
     "text": [
      "a2 = [ 1  2  3  4  5  6  7  8  9 10 11 12]\n"
     ]
    }
   ],
   "source": [
    "a2 = np.arange(1, 13)\n",
    "print('a2 =',a2)"
   ]
  },
  {
   "cell_type": "code",
   "execution_count": 40,
   "id": "e2295a56",
   "metadata": {},
   "outputs": [
    {
     "name": "stdout",
     "output_type": "stream",
     "text": [
      "a3 = [ 3  6  9 12 15 18 21 24 27 30 33 36 39 42 45 48]\n"
     ]
    }
   ],
   "source": [
    "a3 = np.arange(3, 50, 3)\n",
    "print('a3 =', a3)"
   ]
  },
  {
   "cell_type": "code",
   "execution_count": 43,
   "id": "877fc74a",
   "metadata": {},
   "outputs": [
    {
     "name": "stdout",
     "output_type": "stream",
     "text": [
      "a4 = [ 0.  5. 10. 15. 20.]\n"
     ]
    }
   ],
   "source": [
    "a4 = np.linspace(0.0, 20, 5)\n",
    "print('a4 =', a4)"
   ]
  },
  {
   "cell_type": "markdown",
   "id": "7516ceea",
   "metadata": {},
   "source": [
    "### 11-5"
   ]
  },
  {
   "cell_type": "code",
   "execution_count": 45,
   "id": "eec5bf12",
   "metadata": {},
   "outputs": [
    {
     "name": "stdout",
     "output_type": "stream",
     "text": [
      "a1 =  [[ 1  2  3  4  5  6]\n",
      " [ 7  8  9 10 11 12]]\n"
     ]
    }
   ],
   "source": [
    "#1\n",
    "a1 = np.arange(1, 13)\n",
    "print('a1 = ',a1.reshape(2,6))"
   ]
  },
  {
   "cell_type": "code",
   "execution_count": 48,
   "id": "08398282",
   "metadata": {},
   "outputs": [
    {
     "name": "stdout",
     "output_type": "stream",
     "text": [
      "a2 = [[ 1  2  3  4  5  6  7  8  9 10]\n",
      " [11 12 13 14 15 16 17 18 19 20]\n",
      " [21 22 23 24 25 26 27 28 29 30]]\n"
     ]
    }
   ],
   "source": [
    "#2\n",
    "a2 = np.arange(1, 31).reshape(3, 10)\n",
    "print('a2 =', a2)"
   ]
  },
  {
   "cell_type": "code",
   "execution_count": 49,
   "id": "a8ec9bc5",
   "metadata": {},
   "outputs": [
    {
     "name": "stdout",
     "output_type": "stream",
     "text": [
      "a3 = [[ 1  2  3  4  5]\n",
      " [ 6  7  8  9 10]\n",
      " [11 12 13 14 15]\n",
      " [16 17 18 19 20]\n",
      " [21 22 23 24 25]\n",
      " [26 27 28 29 30]]\n"
     ]
    }
   ],
   "source": [
    "#3\n",
    "a3 = a2.reshape(6,5)\n",
    "print('a3 =', a3)"
   ]
  },
  {
   "cell_type": "code",
   "execution_count": 51,
   "id": "7c6c6966",
   "metadata": {},
   "outputs": [
    {
     "name": "stdout",
     "output_type": "stream",
     "text": [
      "a4 = [[ 1  6 11 16 21 26]\n",
      " [ 2  7 12 17 22 27]\n",
      " [ 3  8 13 18 23 28]\n",
      " [ 4  9 14 19 24 29]\n",
      " [ 5 10 15 20 25 30]]\n"
     ]
    }
   ],
   "source": [
    "#4\n",
    "a4 = a3.transpose()\n",
    "print('a4 =', a4)"
   ]
  },
  {
   "cell_type": "markdown",
   "id": "a47cfa89",
   "metadata": {},
   "source": [
    "### 11-6"
   ]
  },
  {
   "cell_type": "code",
   "execution_count": 52,
   "id": "06cd9d71",
   "metadata": {},
   "outputs": [],
   "source": [
    "#1\n"
   ]
  },
  {
   "cell_type": "code",
   "execution_count": null,
   "id": "271eadc4",
   "metadata": {},
   "outputs": [],
   "source": []
  },
  {
   "cell_type": "code",
   "execution_count": null,
   "id": "0017ffb3",
   "metadata": {},
   "outputs": [],
   "source": []
  },
  {
   "cell_type": "markdown",
   "id": "138c55b8",
   "metadata": {},
   "source": [
    "### 11-7"
   ]
  },
  {
   "cell_type": "code",
   "execution_count": 59,
   "id": "f0402fe1",
   "metadata": {},
   "outputs": [
    {
     "name": "stdout",
     "output_type": "stream",
     "text": [
      "a = [ 1  2  3  4  5  6  7  8  9 10]\n",
      "b = [2 4 6 8]\n"
     ]
    }
   ],
   "source": [
    "#1\n",
    "a = np.arange(1, 11)\n",
    "print('a =', a)\n",
    "b = a[1:9:2]\n",
    "print('b =', b)"
   ]
  },
  {
   "cell_type": "code",
   "execution_count": 60,
   "id": "b702ec0b",
   "metadata": {},
   "outputs": [],
   "source": [
    "#2\n"
   ]
  },
  {
   "cell_type": "code",
   "execution_count": null,
   "id": "0afc76fb",
   "metadata": {},
   "outputs": [],
   "source": []
  }
 ],
 "metadata": {
  "kernelspec": {
   "display_name": "Python 3 (ipykernel)",
   "language": "python",
   "name": "python3"
  },
  "language_info": {
   "codemirror_mode": {
    "name": "ipython",
    "version": 3
   },
   "file_extension": ".py",
   "mimetype": "text/x-python",
   "name": "python",
   "nbconvert_exporter": "python",
   "pygments_lexer": "ipython3",
   "version": "3.9.12"
  }
 },
 "nbformat": 4,
 "nbformat_minor": 5
}
