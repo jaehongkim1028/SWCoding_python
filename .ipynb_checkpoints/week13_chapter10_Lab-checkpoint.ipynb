{
 "cells": [
  {
   "cell_type": "markdown",
   "id": "9c4a3c99",
   "metadata": {},
   "source": [
    "### Lab10-1"
   ]
  },
  {
   "cell_type": "code",
   "execution_count": 2,
   "id": "45dcc9bf",
   "metadata": {},
   "outputs": [
    {
     "name": "stdout",
     "output_type": "stream",
     "text": [
      "200 - 100 : 100\n"
     ]
    }
   ],
   "source": [
    "def sub(x, y):\n",
    "    return x - y\n",
    "\n",
    "print('200 - 100 :', sub(200,100))"
   ]
  },
  {
   "cell_type": "code",
   "execution_count": 3,
   "id": "ac3cd602",
   "metadata": {},
   "outputs": [
    {
     "name": "stdout",
     "output_type": "stream",
     "text": [
      "200 - 100 : 100\n"
     ]
    }
   ],
   "source": [
    "sub = lambda x, y: x - y\n",
    "print('200 - 100 :', sub(200,100))"
   ]
  },
  {
   "cell_type": "markdown",
   "id": "0a69b5bd",
   "metadata": {},
   "source": [
    "### Lab10-2"
   ]
  },
  {
   "cell_type": "code",
   "execution_count": 5,
   "id": "252f6f0a",
   "metadata": {},
   "outputs": [
    {
     "name": "stdout",
     "output_type": "stream",
     "text": [
      "[2, 4, 6, 8, 10]\n"
     ]
    }
   ],
   "source": [
    "n_list = [1, 2, 3, 4, 5, 6, 7, 8, 9, 10]\n",
    "\n",
    "even_list = []\n",
    "for a in filter(lambda x: x%2 == 0, n_list):\n",
    "    even_list.append(a)\n",
    "    \n",
    "print(even_list)"
   ]
  },
  {
   "cell_type": "code",
   "execution_count": 10,
   "id": "9f5e41fb",
   "metadata": {},
   "outputs": [
    {
     "name": "stdout",
     "output_type": "stream",
     "text": [
      "[1, 3, 5, 7, 9]\n"
     ]
    }
   ],
   "source": [
    "n_list = [1, 2, 3, 4, 5, 6, 7, 8, 9, 10]\n",
    "\n",
    "odd_list = []\n",
    "for a in filter(lambda x: x%2 == 1, n_list):\n",
    "    odd_list.append(a)\n",
    "    \n",
    "print(odd_list)"
   ]
  },
  {
   "cell_type": "markdown",
   "id": "51f4a01a",
   "metadata": {},
   "source": [
    "### Lab 10-3"
   ]
  },
  {
   "cell_type": "code",
   "execution_count": 12,
   "id": "86b76faa",
   "metadata": {},
   "outputs": [
    {
     "name": "stdout",
     "output_type": "stream",
     "text": [
      "['A', 'B', 'C', 'D']\n"
     ]
    }
   ],
   "source": [
    "a_list = ['a', 'b', 'c', 'd']\n",
    "\n",
    "upper_list = []\n",
    "upper_list = list(map(lambda x: x.upper(), a_list))\n",
    "\n",
    "print(upper_list)"
   ]
  },
  {
   "cell_type": "code",
   "execution_count": 22,
   "id": "272c7340",
   "metadata": {},
   "outputs": [
    {
     "name": "stdout",
     "output_type": "stream",
     "text": [
      "[20, 40, 60]\n",
      "[30, 60, 90]\n"
     ]
    }
   ],
   "source": [
    "n_list = [10, 20, 30]\n",
    "\n",
    "tw_ = list(map(lambda x: x*2, n_list))\n",
    "print(tw_)\n",
    "\n",
    "tri_ = list(map(lambda x: x*3, n_list))\n",
    "print(tri_)"
   ]
  },
  {
   "cell_type": "markdown",
   "id": "331e0d43",
   "metadata": {},
   "source": [
    "### Lab 10-4"
   ]
  },
  {
   "cell_type": "code",
   "execution_count": 15,
   "id": "542c24f0",
   "metadata": {},
   "outputs": [
    {
     "name": "stdout",
     "output_type": "stream",
     "text": [
      "1에서 100까지의 합 : 5050\n"
     ]
    }
   ],
   "source": [
    "from functools import reduce\n",
    "\n",
    "a = []\n",
    "for i in range(1, 101):\n",
    "    a.append(i)\n",
    "\n",
    "n = reduce(lambda x, y: x + y, a)\n",
    "print('1에서 100까지의 합 :',n)"
   ]
  },
  {
   "cell_type": "code",
   "execution_count": 16,
   "id": "12ede052",
   "metadata": {},
   "outputs": [
    {
     "name": "stdout",
     "output_type": "stream",
     "text": [
      "10! = 3628800\n"
     ]
    }
   ],
   "source": [
    "n = reduce(lambda x, y: x * y, range(1,11))\n",
    "print('10! =', n)"
   ]
  },
  {
   "cell_type": "markdown",
   "id": "cbe1961c",
   "metadata": {},
   "source": [
    "### Lab 10-5"
   ]
  },
  {
   "cell_type": "code",
   "execution_count": 23,
   "id": "b5e54bbe",
   "metadata": {},
   "outputs": [
    {
     "name": "stdout",
     "output_type": "stream",
     "text": [
      "cubic : [1, 8, 27, 64, 125, 216, 343, 512, 729, 1000]\n"
     ]
    }
   ],
   "source": [
    "cubic = [x**3 for x in range(1, 11)]\n",
    "print('cubic :', cubic)"
   ]
  },
  {
   "cell_type": "code",
   "execution_count": 25,
   "id": "2a7344c2",
   "metadata": {},
   "outputs": [
    {
     "name": "stdout",
     "output_type": "stream",
     "text": [
      "first_a : ['w', 't', 't', 'p', 'w']\n"
     ]
    }
   ],
   "source": [
    "a = ['welcome', 'to', 'the', 'python', 'world']\n",
    "first_a = [i[0] for i in a]\n",
    "print('first_a :' ,first_a)"
   ]
  },
  {
   "cell_type": "markdown",
   "id": "67feec28",
   "metadata": {},
   "source": [
    "### Lab 10-6"
   ]
  },
  {
   "cell_type": "code",
   "execution_count": 26,
   "id": "825cb401",
   "metadata": {},
   "outputs": [
    {
     "name": "stdout",
     "output_type": "stream",
     "text": [
      "cubic : [1, 8, 27, 64, 125, 216, 343]\n"
     ]
    }
   ],
   "source": [
    "cubic = [x**3 for x in range(1,11) if x**3 <= 500]\n",
    "print('cubic :', cubic)"
   ]
  },
  {
   "cell_type": "code",
   "execution_count": 28,
   "id": "d61e06e8",
   "metadata": {},
   "outputs": [
    {
     "name": "stdout",
     "output_type": "stream",
     "text": [
      "['1', '2', '3', '4']\n"
     ]
    }
   ],
   "source": [
    "st = 'Hello 1234 Python'\n",
    "s_num = [x for x in st if x.isdigit()]\n",
    "print(s_num)"
   ]
  },
  {
   "cell_type": "markdown",
   "id": "db545396",
   "metadata": {},
   "source": [
    "### Lab 10-7"
   ]
  },
  {
   "cell_type": "code",
   "execution_count": 35,
   "id": "021f46a3",
   "metadata": {},
   "outputs": [
    {
     "name": "stdout",
     "output_type": "stream",
     "text": [
      "0 2 4 6 8 "
     ]
    }
   ],
   "source": [
    "class EvenCounter:\n",
    "    def __init__(self, n = 0):\n",
    "        self.n = n\n",
    "    def __iter__(self):\n",
    "        return self\n",
    "    def __next__(self):\n",
    "        if self.n <= 20:\n",
    "            t = self.n\n",
    "            self.n += 2\n",
    "            return t\n",
    "        \n",
    "my_counter = EvenCounter()\n",
    "print(my_counter.__next__(), end=' ')\n",
    "print(my_counter.__next__(), end=' ')\n",
    "print(my_counter.__next__(), end=' ')\n",
    "print(my_counter.__next__(), end=' ')\n",
    "print(my_counter.__next__(), end=' ')"
   ]
  },
  {
   "cell_type": "code",
   "execution_count": 38,
   "id": "fcb1ff97",
   "metadata": {},
   "outputs": [
    {
     "name": "stdout",
     "output_type": "stream",
     "text": [
      "0 2 4 6 8 10 12 14 16 18 20 "
     ]
    }
   ],
   "source": [
    "class EvenCounter:\n",
    "    def __init__(self, n = 0):\n",
    "        self.n = n\n",
    "    def __iter__(self):\n",
    "        return self\n",
    "    def __next__(self):\n",
    "        if self.n <= 20:\n",
    "            t = self.n\n",
    "            self.n += 2\n",
    "            return t\n",
    "        raise StopIteration\n",
    "\n",
    "my_counter = EvenCounter()\n",
    "for x in my_counter:\n",
    "    print(x, end= ' ')"
   ]
  },
  {
   "cell_type": "markdown",
   "id": "e1e5bbb0",
   "metadata": {},
   "source": [
    "### Lab 10-8"
   ]
  },
  {
   "cell_type": "code",
   "execution_count": 1,
   "id": "618abbd6",
   "metadata": {},
   "outputs": [
    {
     "data": {
      "text/plain": [
       "['Welcome', 'to', 'Busan', 'Metropolitan']"
      ]
     },
     "execution_count": 1,
     "metadata": {},
     "output_type": "execute_result"
    }
   ],
   "source": [
    "txt = 'Welcome to Busan Metropolitan '\n",
    "txt.split()"
   ]
  },
  {
   "cell_type": "code",
   "execution_count": 2,
   "id": "d179f638",
   "metadata": {},
   "outputs": [
    {
     "data": {
      "text/plain": [
       "['Hello', ' My name i DongMin', 'Good to see you again']"
      ]
     },
     "execution_count": 2,
     "metadata": {},
     "output_type": "execute_result"
    }
   ],
   "source": [
    "greet = 'Hello, My name i DongMin,Good to see you again'\n",
    "greet.split(',')"
   ]
  },
  {
   "cell_type": "code",
   "execution_count": 3,
   "id": "cac08477",
   "metadata": {},
   "outputs": [
    {
     "data": {
      "text/plain": [
       "['Apple', 'Banana', 'Melon', 'Orange']"
      ]
     },
     "execution_count": 3,
     "metadata": {},
     "output_type": "execute_result"
    }
   ],
   "source": [
    "fruits = 'Apple|Banana|Melon|Orange'\n",
    "fruits.split('|')"
   ]
  },
  {
   "cell_type": "code",
   "execution_count": null,
   "id": "54a37b67",
   "metadata": {},
   "outputs": [],
   "source": []
  }
 ],
 "metadata": {
  "kernelspec": {
   "display_name": "Python 3 (ipykernel)",
   "language": "python",
   "name": "python3"
  },
  "language_info": {
   "codemirror_mode": {
    "name": "ipython",
    "version": 3
   },
   "file_extension": ".py",
   "mimetype": "text/x-python",
   "name": "python",
   "nbconvert_exporter": "python",
   "pygments_lexer": "ipython3",
   "version": "3.9.12"
  }
 },
 "nbformat": 4,
 "nbformat_minor": 5
}
