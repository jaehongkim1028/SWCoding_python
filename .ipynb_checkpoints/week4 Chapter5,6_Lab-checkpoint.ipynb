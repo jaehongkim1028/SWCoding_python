{
 "cells": [
  {
   "cell_type": "markdown",
   "id": "72279c3d",
   "metadata": {},
   "source": [
    "# 4주차 Chapter5,6 Lab 문제풀기\n",
    "\n",
    "## 2020117066 김재홍\n",
    "\n",
    "### Lab 5-1"
   ]
  },
  {
   "cell_type": "code",
   "execution_count": 18,
   "id": "783d1be4",
   "metadata": {},
   "outputs": [
    {
     "name": "stdout",
     "output_type": "stream",
     "text": [
      "even_list = [2, 4, 6, 8, 10]\n"
     ]
    }
   ],
   "source": [
    "#1 \n",
    "\n",
    "even_list=[2, 4, 6, 8, 10]\n",
    "        \n",
    "print(\"even_list = {}\".format(even_list))\n"
   ]
  },
  {
   "cell_type": "code",
   "execution_count": 15,
   "id": "939fbd30",
   "metadata": {},
   "outputs": [
    {
     "name": "stdout",
     "output_type": "stream",
     "text": [
      "[2, 4, 6, 8, 10]\n"
     ]
    }
   ],
   "source": [
    "#2\n",
    "\n",
    "even_list=[]\n",
    "\n",
    "for i in range(1,11):\n",
    "    if i%2 == 0:             #2로 나누어 떨어지면 짝수\n",
    "        even_list.append(i) \n",
    "        \n",
    "        \n",
    "print(\"even_list = {}\".format(even_list))\n"
   ]
  },
  {
   "cell_type": "code",
   "execution_count": 19,
   "id": "77996a6e",
   "metadata": {},
   "outputs": [
    {
     "name": "stdout",
     "output_type": "stream",
     "text": [
      "nations = ['Korea', 'China', 'India', 'Nepal']\n"
     ]
    }
   ],
   "source": [
    "#3\n",
    "\n",
    "nations = ['Korea', 'China', 'India', 'Nepal']\n",
    "\n",
    "print(\"nations = {}\".format(nations))"
   ]
  },
  {
   "cell_type": "code",
   "execution_count": 20,
   "id": "5031e39b",
   "metadata": {},
   "outputs": [
    {
     "name": "stdout",
     "output_type": "stream",
     "text": [
      "friends = ['종국', '재석', '명수', '하하', '형돈']\n"
     ]
    }
   ],
   "source": [
    "#4\n",
    "\n",
    "friends = ['종국', '재석', '명수', '하하', '형돈']\n",
    "\n",
    "print(\"friends = {}\".format(friends))"
   ]
  },
  {
   "cell_type": "code",
   "execution_count": 21,
   "id": "60380c89",
   "metadata": {},
   "outputs": [
    {
     "name": "stdout",
     "output_type": "stream",
     "text": [
      "string = ['X', 'Y', 'Z']\n"
     ]
    }
   ],
   "source": [
    "#5\n",
    "\n",
    "string = list(\"XYZ\")\n",
    "\n",
    "print(\"string = {}\".format(string))"
   ]
  },
  {
   "cell_type": "markdown",
   "id": "82238960",
   "metadata": {},
   "source": [
    "### Lab 5-2"
   ]
  },
  {
   "cell_type": "code",
   "execution_count": 9,
   "id": "b9707cbf",
   "metadata": {},
   "outputs": [
    {
     "name": "stdout",
     "output_type": "stream",
     "text": [
      "prime_list의 첫 원소 : 2\n",
      "prime_list의 마지막 원소 : 7\n",
      "prime_list의 마지막 원소 : 7\n"
     ]
    }
   ],
   "source": [
    "#1,2,3\n",
    "\n",
    "prime_list = []\n",
    "\n",
    "#소수를 리스트에 넣기\n",
    "for i in range(2, 11):\n",
    "    isPrime = True\n",
    "\n",
    "    for j in range(2,i):\n",
    "        if i%j == 0:\n",
    "            isPrime = False        \n",
    "                \n",
    "    if isPrime:\n",
    "        prime_list.append(i)\n",
    "\n",
    "prime_len = len(prime_list)\n",
    "print(\"prime_list의 첫 원소 : {}\".format(prime_list[0]))\n",
    "print(\"prime_list의 마지막 원소 : {}\".format(prime_list[prime_len-1]))\n",
    "print(\"prime_list의 마지막 원소 : {}\".format(prime_list[-1]))"
   ]
  },
  {
   "cell_type": "code",
   "execution_count": 11,
   "id": "de085bb3",
   "metadata": {},
   "outputs": [
    {
     "name": "stdout",
     "output_type": "stream",
     "text": [
      "nations의 첫 원소: Korea\n",
      "nations의 마지막 원소: Malaysia\n",
      "nations의 마지막 원소: Malaysia\n"
     ]
    }
   ],
   "source": [
    "#4,5,6\n",
    "\n",
    "nations= ['Korea', 'China', 'Russia', 'Malaysia']\n",
    "\n",
    "nations_len = len(nations)\n",
    "\n",
    "print(\"nations의 첫 원소: {}\".format(nations[0]))\n",
    "print(\"nations의 마지막 원소: {}\".format(nations[nations_len-1]))\n",
    "print(\"nations의 마지막 원소: {}\".format(nations[-1]))\n"
   ]
  },
  {
   "cell_type": "markdown",
   "id": "345391f8",
   "metadata": {},
   "source": [
    "### Lab 5-3"
   ]
  },
  {
   "cell_type": "code",
   "execution_count": 14,
   "id": "289de18d",
   "metadata": {},
   "outputs": [
    {
     "name": "stdout",
     "output_type": "stream",
     "text": [
      "소수 목록 : [2, 3, 5, 7]\n",
      "추가 후 소수 목록 : [2, 3, 5, 7, 11]\n",
      "삭제 전 소수 목록 : [2, 3, 5, 7, 11]\n",
      "삭제 후 소수 목록 : [2, 5, 7, 11]\n"
     ]
    }
   ],
   "source": [
    "#1,2\n",
    "\n",
    "prime_list = []\n",
    "\n",
    "#소수를 리스트에 넣기\n",
    "for i in range(2, 11):\n",
    "    isPrime = True\n",
    "\n",
    "    for j in range(2,i):\n",
    "        if i%j == 0:\n",
    "            isPrime = False        \n",
    "                \n",
    "    if isPrime:\n",
    "        prime_list.append(i)\n",
    "\n",
    "print(\"소수 목록 : {}\".format(prime_list))\n",
    "prime_list.append(11)\n",
    "print(\"추가 후 소수 목록 : {}\".format(prime_list))\n",
    "\n",
    "print(\"삭제 전 소수 목록 : {}\".format(prime_list))\n",
    "prime_list.remove(3)\n",
    "print(\"삭제 후 소수 목록 : {}\".format(prime_list))"
   ]
  },
  {
   "cell_type": "code",
   "execution_count": 24,
   "id": "e4f9ac65",
   "metadata": {},
   "outputs": [
    {
     "name": "stdout",
     "output_type": "stream",
     "text": [
      "국가 목록 : ['Korea', 'China', 'Russia', 'Malaysia', 'Nepal']\n",
      "Japan 는(은) 국가 목록에 없습니다.\n",
      "Russia 는(은) 국가 목록에 있습니다.\n"
     ]
    }
   ],
   "source": [
    "#3,4\n",
    "\n",
    "nations= ['Korea', 'China', 'Russia', 'Malaysia']\n",
    "\n",
    "nations.append('Nepal')\n",
    "print(\"국가 목록 : {}\".format(nations))\n",
    "\n",
    "if 'Japan' in nations :\n",
    "    print(\"Japan 는(은) 국가 목록에 있습니다.\")\n",
    "else:\n",
    "    print(\"Japan 는(은) 국가 목록에 없습니다.\")\n",
    "    \n",
    "if 'Russia' in nations :\n",
    "    print(\"Russia 는(은) 국가 목록에 있습니다.\")\n",
    "else:\n",
    "    print(\"Russia 는(은) 국가 목록에 없습니다.\")"
   ]
  },
  {
   "cell_type": "markdown",
   "id": "d1f21a3e",
   "metadata": {},
   "source": [
    "### Lab 5-4"
   ]
  },
  {
   "cell_type": "code",
   "execution_count": 27,
   "id": "d6617ed7",
   "metadata": {},
   "outputs": [
    {
     "name": "stdout",
     "output_type": "stream",
     "text": [
      "[2, 3, 5, 7]\n",
      "최솟값 : 2\n",
      "최댓값 : 7\n",
      "합계 : 17\n",
      "평균 : 4.25\n"
     ]
    }
   ],
   "source": [
    "#1\n",
    "\n",
    "prime_list = []\n",
    "\n",
    "for i in range(2,11):\n",
    "    isPrime = True\n",
    "    \n",
    "    for j in range(2,i):\n",
    "        if i%j == 0:\n",
    "            isPrime = False\n",
    "    \n",
    "    if isPrime:\n",
    "        prime_list.append(i)\n",
    "        \n",
    "print(prime_list)\n",
    "print(\"최솟값 : {}\".format(min(prime_list)))\n",
    "print(\"최댓값 : {}\".format(max(prime_list)))\n",
    "print(\"합계 : {}\".format(sum(prime_list)))\n",
    "print(\"평균 : {}\".format(sum(prime_list)/len(prime_list)))\n"
   ]
  },
  {
   "cell_type": "code",
   "execution_count": 28,
   "id": "1b078d4b",
   "metadata": {},
   "outputs": [
    {
     "name": "stdout",
     "output_type": "stream",
     "text": [
      "국가 목록 : ['Korea', 'China', 'Russia', 'Malaysia']\n",
      "사전에 가장 먼저 나오는 나라 : China\n",
      "사전에 가장 뒤에 나오는 나라 : Russia\n"
     ]
    }
   ],
   "source": [
    "#2\n",
    "\n",
    "nations= ['Korea', 'China', 'Russia', 'Malaysia']\n",
    "print(\"국가 목록 : {}\".format(nations))\n",
    "print(\"사전에 가장 먼저 나오는 나라 : {}\".format(min(nations)))\n",
    "print(\"사전에 가장 뒤에 나오는 나라 : {}\".format(max(nations)))"
   ]
  },
  {
   "cell_type": "markdown",
   "id": "b5f362cd",
   "metadata": {},
   "source": [
    "### Lab 5-5"
   ]
  },
  {
   "cell_type": "code",
   "execution_count": 32,
   "id": "7b219ab5",
   "metadata": {},
   "outputs": [
    {
     "name": "stdout",
     "output_type": "stream",
     "text": [
      "[1, 2, 3, [10, 20, 30]]\n",
      "[1, 2, 3, 10, 20, 30]\n"
     ]
    }
   ],
   "source": [
    "#1\n",
    "\n",
    "a = [1, 2, 3]\n",
    "b = [10, 20, 30]\n",
    "\n",
    "a.append(b)\n",
    "print(a)\n",
    "\n",
    "a = [1, 2, 3]\n",
    "b = [10, 20, 30]\n",
    "\n",
    "a.extend(b)\n",
    "print(a)"
   ]
  },
  {
   "cell_type": "code",
   "execution_count": 40,
   "id": "ce895f40",
   "metadata": {},
   "outputs": [
    {
     "name": "stdout",
     "output_type": "stream",
     "text": [
      "nlist = [1, 2, 3, 4, 5, 6, 7, 8, 9, 10]\n",
      "nlist = [0, 1, 2, 3, 4, 5, 6, 7, 8, 9, 10]\n",
      "nlist = [10, 9, 8, 7, 6, 5, 4, 3, 2, 1, 0]\n",
      "마지막 원소 = 0\n",
      "nlist = [10, 9, 8, 7, 6, 5, 4, 3, 2, 1]\n"
     ]
    }
   ],
   "source": [
    "#2,3,4,5\n",
    "\n",
    "nlist = []\n",
    "for i in range(1,11):\n",
    "    nlist.append(i)\n",
    "    \n",
    "print(\"nlist = {}\".format(nlist))\n",
    "nlist.insert(0, 0)\n",
    "print(\"nlist = {}\".format(nlist))\n",
    "nlist.reverse()\n",
    "print(\"nlist = {}\".format(nlist))\n",
    "\n",
    "lastNum = nlist.pop()\n",
    "print(\"마지막 원소 = {}\".format(lastNum))\n",
    "print(\"nlist = {}\".format(nlist))"
   ]
  },
  {
   "cell_type": "markdown",
   "id": "aa96f434",
   "metadata": {},
   "source": [
    "### Lab 5-6"
   ]
  },
  {
   "cell_type": "code",
   "execution_count": 41,
   "id": "dd68223a",
   "metadata": {},
   "outputs": [
    {
     "name": "stdout",
     "output_type": "stream",
     "text": [
      "반복할 정수를 입력하시오 : 3\n",
      "[1, 2, 3, 1, 2, 3, 1, 2, 3]\n"
     ]
    }
   ],
   "source": [
    "#1\n",
    "\n",
    "list = [1, 2, 3]\n",
    "n = int(input(\"반복할 정수를 입력하시오 : \"))\n",
    "\n",
    "print(list * n)"
   ]
  },
  {
   "cell_type": "markdown",
   "id": "65cbfe98",
   "metadata": {},
   "source": [
    "### Lab 5-7"
   ]
  },
  {
   "cell_type": "code",
   "execution_count": 46,
   "id": "b5d890c1",
   "metadata": {},
   "outputs": [
    {
     "name": "stdout",
     "output_type": "stream",
     "text": [
      "n_list : [0, 1, 2, 3, 4, 5, 6, 7, 8, 9, 10, 11, 12, 13, 14]\n",
      "s_list1 : [0, 1, 2, 3, 4]\n",
      "s_list2 : [5, 6, 7, 8, 9, 10]\n",
      "s_list3 : [11, 12, 13, 14]\n",
      "s_list4 : [2, 4, 6, 8, 10]\n",
      "s_list5 : [10, 9, 8, 7, 6]\n",
      "s_list6 : [10, 8, 6, 4, 2]\n"
     ]
    }
   ],
   "source": [
    "#1\n",
    "\n",
    "n_list = []\n",
    "for i in range(15):\n",
    "    n_list.append(i)\n",
    "    \n",
    "print(\"n_list : {}\".format(n_list))\n",
    "\n",
    "#2\n",
    "\n",
    "s_list1 = n_list[0:5]\n",
    "print(\"s_list1 : {}\".format(s_list1))\n",
    "\n",
    "s_list2 = n_list[5:11]\n",
    "print(\"s_list2 : {}\".format(s_list2))\n",
    "\n",
    "s_list3 = n_list[11:15]\n",
    "print(\"s_list3 : {}\".format(s_list3))\n",
    "\n",
    "s_list4 = n_list[2:11:2]\n",
    "print(\"s_list4 : {}\".format(s_list4))\n",
    "\n",
    "s_list5 = n_list[10:5:-1]\n",
    "print(\"s_list5 : {}\".format(s_list5))\n",
    "\n",
    "s_list6 = n_list[10:1:-2]\n",
    "print(\"s_list6 : {}\".format(s_list6))"
   ]
  },
  {
   "cell_type": "markdown",
   "id": "59bf31de",
   "metadata": {},
   "source": [
    "### Lab 6-1"
   ]
  },
  {
   "cell_type": "code",
   "execution_count": 52,
   "id": "7b637c04",
   "metadata": {},
   "outputs": [
    {
     "name": "stdout",
     "output_type": "stream",
     "text": [
      "Seoul\n",
      "Beijing\n",
      "Washington DC\n"
     ]
    }
   ],
   "source": [
    "#1\n",
    "\n",
    "capital_dic = {'Korea':'Seoul', \n",
    "               'China':'Beijing', \n",
    "               'USA':'Washington DC'}\n",
    "\n",
    "print(capital_dic['Korea'])\n",
    "print(capital_dic['China'])\n",
    "print(capital_dic['USA'])\n",
    "\n"
   ]
  },
  {
   "cell_type": "code",
   "execution_count": 53,
   "id": "16ded249",
   "metadata": {},
   "outputs": [
    {
     "name": "stdout",
     "output_type": "stream",
     "text": [
      "apple의 가격은 5000원입니다. \n",
      "banana의 가격은 4000원입니다. \n",
      "grape의 가격은 5300원입니다. \n",
      "melon의 가격은 6500원입니다. \n"
     ]
    }
   ],
   "source": [
    "#2\n",
    "\n",
    "fruits_dic = {'apple' : 5000,\n",
    "              'banana' : 4000,\n",
    "              'grape' : 5300,\n",
    "              'melon' : 6500}\n",
    "\n",
    "print(\"{}의 가격은 {}원입니다. \".format('apple',fruits_dic['apple']))\n",
    "print(\"{}의 가격은 {}원입니다. \".format('banana',fruits_dic['banana']))\n",
    "print(\"{}의 가격은 {}원입니다. \".format('grape',fruits_dic['grape']))\n",
    "print(\"{}의 가격은 {}원입니다. \".format('melon',fruits_dic['melon']))"
   ]
  },
  {
   "cell_type": "markdown",
   "id": "74fad540",
   "metadata": {},
   "source": [
    "### Lab 6-2"
   ]
  },
  {
   "cell_type": "code",
   "execution_count": 57,
   "id": "85774272",
   "metadata": {},
   "outputs": [
    {
     "name": "stdout",
     "output_type": "stream",
     "text": [
      "{'이름': '홍길동', '나이': 26, '몸무게': 82, '특기': '분신술'}\n",
      "{'이름': '홍길동', '나이': 26, '몸무게': 82, '특기': '분신술', '아버지': '홍판서'}\n",
      "{'이름': '홍길동', '몸무게': 82, '특기': '분신술', '아버지': '홍판서'}\n"
     ]
    }
   ],
   "source": [
    "#1\n",
    "\n",
    "person = {'이름' : '홍길동', '나이' : 26, '몸무게' : 82}\n",
    "person['특기'] = '분신술'\n",
    "print(person)\n",
    "\n",
    "#2\n",
    "person['아버지'] = '홍판서'\n",
    "print(person)\n",
    "\n",
    "#3\n",
    "del person['나이']\n",
    "print(person)"
   ]
  },
  {
   "cell_type": "markdown",
   "id": "b8aa865e",
   "metadata": {},
   "source": [
    "### Lab 6-3"
   ]
  },
  {
   "cell_type": "code",
   "execution_count": 60,
   "id": "5cd85671",
   "metadata": {},
   "outputs": [
    {
     "name": "stdout",
     "output_type": "stream",
     "text": [
      "True\n",
      "True\n",
      "False\n",
      "False\n"
     ]
    }
   ],
   "source": [
    "#1\n",
    "\n",
    "capital_dic = {'Korea' : 'Seoul',\n",
    "               'China' : 'Beijing',\n",
    "               'USA' : 'Washington DC'}\n",
    "\n",
    "print('Korea' in capital_dic)\n",
    "print('China' in capital_dic)\n",
    "print('Indonesia' in capital_dic)\n",
    "print('Beijing' in capital_dic)"
   ]
  },
  {
   "cell_type": "markdown",
   "id": "975906ad",
   "metadata": {},
   "source": [
    "### 6-4"
   ]
  },
  {
   "cell_type": "code",
   "execution_count": 63,
   "id": "3d1e299b",
   "metadata": {},
   "outputs": [
    {
     "name": "stdout",
     "output_type": "stream",
     "text": [
      "dict_keys(['apple', 'melon', 'banana', 'orange'])\n",
      "dict_values([6000, 3000, 5000, 7000])\n"
     ]
    }
   ],
   "source": [
    "#1\n",
    "fruits_dic = {'apple' : 6000, \n",
    "              'melon' : 3000, \n",
    "              'banana' : 5000, \n",
    "              'orange' : 7000}\n",
    "#2\n",
    "print(fruits_dic.keys())\n",
    "#3\n",
    "print(fruits_dic.values())\n",
    "#4\n",
    "fruits_dic.pop('apple')\n",
    "#5\n",
    "fruits_dic.clear()\n",
    "    \n"
   ]
  },
  {
   "cell_type": "markdown",
   "id": "38d7b961",
   "metadata": {},
   "source": [
    "### 6-5"
   ]
  },
  {
   "cell_type": "code",
   "execution_count": 76,
   "id": "2a1415cb",
   "metadata": {},
   "outputs": [
    {
     "name": "stdout",
     "output_type": "stream",
     "text": [
      "['apple', 'melon', 'banana', 'orange']\n"
     ]
    }
   ],
   "source": [
    "#1\n",
    "\n",
    "List = []\n",
    "fruits_dict = {'apple': 6000, 'melon': 3000, 'banana': 5000, 'orange':4000}\n",
    "keyList = fruits_dict.keys()\n",
    "for i in keyList:\n",
    "    List.append(i)\n",
    "    \n",
    "print(List)"
   ]
  },
  {
   "cell_type": "code",
   "execution_count": 79,
   "id": "57f2253f",
   "metadata": {},
   "outputs": [
    {
     "name": "stdout",
     "output_type": "stream",
     "text": [
      "[6000, 3000, 5000, 4000]\n"
     ]
    }
   ],
   "source": [
    "#2\n",
    "\n",
    "List = []\n",
    "fruits_dict = {'apple': 6000, 'melon': 3000, 'banana': 5000, 'orange':4000}\n",
    "valueList = fruits_dict.values()\n",
    "for i in valueList:\n",
    "    List.append(i)\n",
    "    \n",
    "print(List)"
   ]
  },
  {
   "cell_type": "code",
   "execution_count": 82,
   "id": "9d184dd1",
   "metadata": {},
   "outputs": [
    {
     "name": "stdout",
     "output_type": "stream",
     "text": [
      "fruits_dic 딕셔너리의 항목의 개수 : 4\n"
     ]
    }
   ],
   "source": [
    "#3\n",
    "\n",
    "fruits_dict = {'apple': 6000, 'melon': 3000, 'banana': 5000, 'orange':4000}\n",
    "n = len(fruits_dict)\n",
    "print(\"fruits_dic 딕셔너리의 항목의 개수 : {}\".format(n))"
   ]
  },
  {
   "cell_type": "code",
   "execution_count": 83,
   "id": "e531455a",
   "metadata": {},
   "outputs": [
    {
     "name": "stdout",
     "output_type": "stream",
     "text": [
      "apple is in fruits_dic\n",
      "mango is not in fruits_dic\n"
     ]
    }
   ],
   "source": [
    "#4 \n",
    "\n",
    "fruits_dict = {'apple': 6000, 'melon': 3000, 'banana': 5000, 'orange':4000}\n",
    "\n",
    "if 'apple' in fruits_dict:\n",
    "    print(\"apple is in fruits_dic\")\n",
    "else:\n",
    "    print(\"apple is not in fruits_dic\")\n",
    "    \n",
    "if 'mango' in fruits_dict:\n",
    "    print(\"mango is in fruits_dic\")\n",
    "else:\n",
    "    print(\"mango is not in fruits_dic\")"
   ]
  },
  {
   "cell_type": "markdown",
   "id": "86e56f3e",
   "metadata": {},
   "source": [
    "### Lab 6-6"
   ]
  },
  {
   "cell_type": "code",
   "execution_count": 1,
   "id": "e724e636",
   "metadata": {},
   "outputs": [
    {
     "name": "stdout",
     "output_type": "stream",
     "text": [
      "1919년 3월 1일은 삼일절입니다.\n"
     ]
    }
   ],
   "source": [
    "#1\n",
    "\n",
    "the_day = (1919, 3, 1)\n",
    "year = the_day[0]\n",
    "month = the_day[1]\n",
    "day = the_day[2]\n",
    "\n",
    "print(\"{}년 {}월 {}일은 삼일절입니다.\".format(year, month, day))"
   ]
  },
  {
   "cell_type": "code",
   "execution_count": 2,
   "id": "120847e7",
   "metadata": {},
   "outputs": [
    {
     "name": "stdout",
     "output_type": "stream",
     "text": [
      "a = 10\n",
      "b = 20\n",
      "c = 30\n"
     ]
    }
   ],
   "source": [
    "#2\n",
    "exList = [10, 20, 30]\n",
    "exTuple = tuple(exList)\n",
    "\n",
    "a, b, c = exList\n",
    "\n",
    "print(\"a = {}\".format(a))\n",
    "print(\"b = {}\".format(b))\n",
    "print(\"c = {}\".format(c))"
   ]
  },
  {
   "cell_type": "markdown",
   "id": "8aff3762",
   "metadata": {},
   "source": [
    "### Lab 6-7"
   ]
  },
  {
   "cell_type": "code",
   "execution_count": 94,
   "id": "514c9735",
   "metadata": {},
   "outputs": [
    {
     "ename": "TypeError",
     "evalue": "'list' object is not callable",
     "output_type": "error",
     "traceback": [
      "\u001b[0;31m---------------------------------------------------------------------------\u001b[0m",
      "\u001b[0;31mTypeError\u001b[0m                                 Traceback (most recent call last)",
      "Input \u001b[0;32mIn [94]\u001b[0m, in \u001b[0;36m<cell line: 9>\u001b[0;34m()\u001b[0m\n\u001b[1;32m      4\u001b[0m \u001b[38;5;66;03m#2\u001b[39;00m\n\u001b[1;32m      5\u001b[0m \u001b[38;5;66;03m#TypeError: 'tuple' object does not support item assignment\u001b[39;00m\n\u001b[1;32m      6\u001b[0m \n\u001b[1;32m      7\u001b[0m \u001b[38;5;66;03m#3\u001b[39;00m\n\u001b[1;32m      8\u001b[0m pList \u001b[38;5;241m=\u001b[39m []\n\u001b[0;32m----> 9\u001b[0m pList \u001b[38;5;241m=\u001b[39m \u001b[38;5;28;43mlist\u001b[39;49m\u001b[43m(\u001b[49m\u001b[43mperson\u001b[49m\u001b[43m)\u001b[49m\n",
      "\u001b[0;31mTypeError\u001b[0m: 'list' object is not callable"
     ]
    }
   ],
   "source": [
    "#1\n",
    "person = ('홍길동', 2019001, 179)\n",
    "\n",
    "#2\n",
    "#TypeError: 'tuple' object does not support item assignment\n",
    "\n",
    "#3\n",
    "#pList = list(person)\n",
    "# 주피터 노트북에서 list함수를 튜플이나 딕셔너리에 사용하면 TypeError: 'list' object is not callable 에러가 발생합니다.\n",
    "# pList[1] = 2020003\n",
    "# person = tuple(pList)\n",
    "#print(\"학번 변동 후 person = {}\".format(person))"
   ]
  },
  {
   "cell_type": "markdown",
   "id": "85cfa002",
   "metadata": {},
   "source": [
    "### Lab 6-9"
   ]
  },
  {
   "cell_type": "code",
   "execution_count": 92,
   "id": "145bf250",
   "metadata": {},
   "outputs": [
    {
     "name": "stdout",
     "output_type": "stream",
     "text": [
      "{'banana', 'apple', 'mango'}\n"
     ]
    }
   ],
   "source": [
    "#1\n",
    "\n",
    "lst = ['apple', 'mango', 'banana']\n",
    "s1 = set(lst)\n",
    "print(s1)"
   ]
  },
  {
   "cell_type": "code",
   "execution_count": 93,
   "id": "38ced1e2",
   "metadata": {},
   "outputs": [
    {
     "name": "stdout",
     "output_type": "stream",
     "text": [
      "{'r', 'a', 'f', 'e', 't', 'n', 'G', 'o', ' ', 'd'}\n"
     ]
    }
   ],
   "source": [
    "#2\n",
    "\n",
    "greet = 'Good afternoon'\n",
    "s2 = set(greet)\n",
    "print(s2)"
   ]
  },
  {
   "cell_type": "code",
   "execution_count": null,
   "id": "546ae186",
   "metadata": {},
   "outputs": [],
   "source": []
  }
 ],
 "metadata": {
  "kernelspec": {
   "display_name": "Python 3 (ipykernel)",
   "language": "python",
   "name": "python3"
  },
  "language_info": {
   "codemirror_mode": {
    "name": "ipython",
    "version": 3
   },
   "file_extension": ".py",
   "mimetype": "text/x-python",
   "name": "python",
   "nbconvert_exporter": "python",
   "pygments_lexer": "ipython3",
   "version": "3.9.12"
  }
 },
 "nbformat": 4,
 "nbformat_minor": 5
}
