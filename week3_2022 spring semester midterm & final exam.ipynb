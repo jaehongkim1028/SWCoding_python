{
 "cells": [
  {
   "attachments": {},
   "cell_type": "markdown",
   "id": "c73b5614",
   "metadata": {},
   "source": [
    "# 2022 spring semester mid-term & final exam\n",
    "\n",
    "## 2020117066 김재홍\n",
    "\n",
    "### 섭씨온도(Celsius)를 화씨온도(Fahrenheit)로 변환하는 식은 아래와 같다. Fahrenheit = (9/5) * Celsius + 32 이 식을 바탕으로 섭씨온도를 0도에서 50도까지 5도 단위로 증가시키면서 이에 해당하는 화씨온도를 계산하여, 섭씨온도와 화씨온도의 값을 보여주는 프로그램을 작성하시오. "
   ]
  },
  {
   "cell_type": "code",
   "execution_count": 1,
   "id": "48202a99",
   "metadata": {},
   "outputs": [
    {
     "name": "stdout",
     "output_type": "stream",
     "text": [
      "섭씨온도: 0, 화씨온도: 32\n",
      "섭씨온도: 5, 화씨온도: 41\n",
      "섭씨온도: 10, 화씨온도: 50\n",
      "섭씨온도: 15, 화씨온도: 59\n",
      "섭씨온도: 20, 화씨온도: 68\n",
      "섭씨온도: 25, 화씨온도: 77\n",
      "섭씨온도: 30, 화씨온도: 86\n",
      "섭씨온도: 35, 화씨온도: 95\n",
      "섭씨온도: 40, 화씨온도: 104\n",
      "섭씨온도: 45, 화씨온도: 113\n",
      "섭씨온도: 50, 화씨온도: 122\n"
     ]
    }
   ],
   "source": [
    "f = 0\n",
    "for i in range(0, 55, 5):\n",
    "    f = 9*i//5 + 32\n",
    "    print(\"섭씨온도: {}, 화씨온도: {}\".format(i, f))"
   ]
  },
  {
   "attachments": {},
   "cell_type": "markdown",
   "id": "b26d3d65",
   "metadata": {},
   "source": [
    "### 아래의 실행 결과를 적으세요.\n",
    "- a = 2*2//2   -> 2\n",
    "- b = 3//2*3   -> 3\n",
    "- print(a,b)   -> 2 3\n"
   ]
  },
  {
   "cell_type": "markdown",
   "id": "3247b391",
   "metadata": {},
   "source": [
    "### 10 미만의 자연수에서 3과 5의 배수를 구하면 3, 5, 6, 9이다. 이들의 총합은 23이다. 1000 미만의 자연수에서 3의 배수와 5의 배수의 총합을 구하시오."
   ]
  },
  {
   "cell_type": "code",
   "execution_count": 8,
   "id": "5f563732",
   "metadata": {},
   "outputs": [
    {
     "name": "stdout",
     "output_type": "stream",
     "text": [
      "총합은 233168입니다.\n"
     ]
    }
   ],
   "source": [
    "# a는 3의 배수합, b는 5의 배수합, c는 15의 배수합\n",
    "a = 0\n",
    "for i in range(0, 1000, 3):\n",
    "    a = a+i\n",
    "\n",
    "b = 0\n",
    "for j in range(0, 1000, 5):\n",
    "    b = b+j\n",
    "    \n",
    "c = 0\n",
    "for k in range(0, 1000, 15):\n",
    "    c = c+k\n",
    "    \n",
    "print(\"총합은 {}입니다.\".format(a+b-c))"
   ]
  },
  {
   "cell_type": "code",
   "execution_count": null,
   "id": "f263d257",
   "metadata": {},
   "outputs": [],
   "source": []
  }
 ],
 "metadata": {
  "kernelspec": {
   "display_name": "Python 3 (ipykernel)",
   "language": "python",
   "name": "python3"
  },
  "language_info": {
   "codemirror_mode": {
    "name": "ipython",
    "version": 3
   },
   "file_extension": ".py",
   "mimetype": "text/x-python",
   "name": "python",
   "nbconvert_exporter": "python",
   "pygments_lexer": "ipython3",
   "version": "3.9.12"
  }
 },
 "nbformat": 4,
 "nbformat_minor": 5
}
