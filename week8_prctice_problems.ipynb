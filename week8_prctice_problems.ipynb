{
 "cells": [
  {
   "cell_type": "markdown",
   "id": "8d142afb",
   "metadata": {},
   "source": [
    "# 2020117066 컴퓨터학부 김재홍\n",
    "## 8주차 연습문제"
   ]
  },
  {
   "cell_type": "code",
   "execution_count": 5,
   "id": "1bf63184",
   "metadata": {},
   "outputs": [
    {
     "name": "stdout",
     "output_type": "stream",
     "text": [
      "Error:: PermissionError[errno 13] Permission denied\n"
     ]
    }
   ],
   "source": [
    "#1\n",
    "\n",
    "try:\n",
    "    f = open('greet.txt','w')\n",
    "except Exception as e:\n",
    "    print('Error:: PermissionError[errno 13] Permission denied')\n"
   ]
  },
  {
   "cell_type": "code",
   "execution_count": null,
   "id": "cc27bde8",
   "metadata": {},
   "outputs": [],
   "source": [
    "#2\n",
    "\n",
    "try:\n",
    "    "
   ]
  }
 ],
 "metadata": {
  "kernelspec": {
   "display_name": "Python 3 (ipykernel)",
   "language": "python",
   "name": "python3"
  },
  "language_info": {
   "codemirror_mode": {
    "name": "ipython",
    "version": 3
   },
   "file_extension": ".py",
   "mimetype": "text/x-python",
   "name": "python",
   "nbconvert_exporter": "python",
   "pygments_lexer": "ipython3",
   "version": "3.9.12"
  }
 },
 "nbformat": 4,
 "nbformat_minor": 5
}
