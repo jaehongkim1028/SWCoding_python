{
 "cells": [
  {
   "cell_type": "markdown",
   "id": "526ce2fa",
   "metadata": {},
   "source": [
    "# 2020117066 김재홍\n",
    "\n",
    "## Chapter7 Lap problem\n",
    "\n",
    "### Lab 7-1\n"
   ]
  },
  {
   "cell_type": "code",
   "execution_count": 14,
   "id": "7d497103",
   "metadata": {},
   "outputs": [
    {
     "name": "stdout",
     "output_type": "stream",
     "text": [
      "오늘의 날짜 : 2019년 2월 19일\n",
      "현재시간 : 오후 6시 50분 11초\n"
     ]
    }
   ],
   "source": [
    "import datetime as dt\n",
    "\n",
    "today = dt.datetime.now()\n",
    "today = today.replace(year = 2019, month = 2, day = 19, hour = 18, minute = 50, second = 11)\n",
    "\n",
    "hour_int = int(today.hour)\n",
    "option_hour = '오전'\n",
    "if hour_int >= 12:\n",
    "    option_hour = '오후'\n",
    "    if hour_int >= 13:\n",
    "        hour_int -= 12\n",
    "\n",
    "print(\"오늘의 날짜 : {}년 {}월 {}일\".format(today.year, today.month, today.day))\n",
    "\n",
    "print(\"현재시간 : {} {}시 {}분 {}초\".format(option_hour, hour_int, today.minute, today.second))"
   ]
  },
  {
   "cell_type": "markdown",
   "id": "a628aeaa",
   "metadata": {},
   "source": [
    "### Lab 7-2"
   ]
  },
  {
   "cell_type": "code",
   "execution_count": 16,
   "id": "3ece6993",
   "metadata": {},
   "outputs": [],
   "source": [
    "#1\n",
    "\n"
   ]
  },
  {
   "cell_type": "markdown",
   "id": "27788150",
   "metadata": {},
   "source": [
    "### Lab 7-5"
   ]
  },
  {
   "cell_type": "code",
   "execution_count": 17,
   "id": "b21c41de",
   "metadata": {},
   "outputs": [
    {
     "name": "stdout",
     "output_type": "stream",
     "text": [
      "[75, 20, 70]\n"
     ]
    }
   ],
   "source": [
    "#1\n",
    "\n",
    "import random as rd\n",
    "\n",
    "num_list = []\n",
    "for _ in range(3):\n",
    "    num = rd.randrange(0,100,5)\n",
    "    num_list.append(num)\n",
    "\n",
    "print(num_list)"
   ]
  },
  {
   "cell_type": "code",
   "execution_count": 19,
   "id": "d78b8eb2",
   "metadata": {},
   "outputs": [
    {
     "name": "stdout",
     "output_type": "stream",
     "text": [
      "[9, 7, 3]\n"
     ]
    }
   ],
   "source": [
    "#2\n",
    "\n",
    "num_list = [2,3,4,5,6,7,8,9]\n",
    "num = rd.sample(num_list,3)\n",
    "    \n",
    "print(num)"
   ]
  },
  {
   "cell_type": "code",
   "execution_count": null,
   "id": "6c590f3f",
   "metadata": {},
   "outputs": [],
   "source": []
  }
 ],
 "metadata": {
  "kernelspec": {
   "display_name": "Python 3 (ipykernel)",
   "language": "python",
   "name": "python3"
  },
  "language_info": {
   "codemirror_mode": {
    "name": "ipython",
    "version": 3
   },
   "file_extension": ".py",
   "mimetype": "text/x-python",
   "name": "python",
   "nbconvert_exporter": "python",
   "pygments_lexer": "ipython3",
   "version": "3.9.12"
  }
 },
 "nbformat": 4,
 "nbformat_minor": 5
}
