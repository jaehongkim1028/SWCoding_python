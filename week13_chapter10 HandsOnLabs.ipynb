{
 "cells": [
  {
   "cell_type": "markdown",
   "id": "12245113",
   "metadata": {},
   "source": [
    "### lamda_add"
   ]
  },
  {
   "cell_type": "code",
   "execution_count": 1,
   "id": "5c71508b",
   "metadata": {},
   "outputs": [
    {
     "name": "stdout",
     "output_type": "stream",
     "text": [
      "100과 200의 합 : 300\n"
     ]
    }
   ],
   "source": [
    "add = lambda x, y: x + y\n",
    "print('100과 200의 합 :', add(100, 200))"
   ]
  },
  {
   "cell_type": "code",
   "execution_count": 2,
   "id": "fcdd6369",
   "metadata": {},
   "outputs": [
    {
     "name": "stdout",
     "output_type": "stream",
     "text": [
      "100과 200의 합 : 300\n"
     ]
    }
   ],
   "source": [
    "print('100과 200의 합 :', (lambda x, y: x + y)(100, 200))"
   ]
  },
  {
   "cell_type": "markdown",
   "id": "3b36141d",
   "metadata": {},
   "source": [
    "### filter function"
   ]
  },
  {
   "cell_type": "code",
   "execution_count": 3,
   "id": "5b2fda9f",
   "metadata": {},
   "outputs": [
    {
     "name": "stdout",
     "output_type": "stream",
     "text": [
      "성년 리스트 :\n",
      "34 39 20 54 "
     ]
    }
   ],
   "source": [
    "def adult_fun(n):\n",
    "    if n >= 19:\n",
    "        return True\n",
    "    else :\n",
    "        return False\n",
    "    \n",
    "ages = [34, 39, 20, 18, 13, 54]\n",
    "print('성년 리스트 :')\n",
    "\n",
    "for a in filter(adult_fun, ages):\n",
    "    print(a, end=' ')"
   ]
  },
  {
   "cell_type": "code",
   "execution_count": 5,
   "id": "67713751",
   "metadata": {},
   "outputs": [
    {
     "name": "stdout",
     "output_type": "stream",
     "text": [
      "성년 리스트 :\n",
      "34 39 20 54 "
     ]
    }
   ],
   "source": [
    "ages = [34, 39, 20, 18, 13, 54]\n",
    "\n",
    "print('성년 리스트 :')\n",
    "for a in filter(lambda x: x >= 19, ages):\n",
    "    print(a, end=' ')"
   ]
  },
  {
   "cell_type": "markdown",
   "id": "9c036c07",
   "metadata": {},
   "source": [
    "### Even number filter"
   ]
  },
  {
   "cell_type": "code",
   "execution_count": 11,
   "id": "d72abca2",
   "metadata": {},
   "outputs": [
    {
     "name": "stdout",
     "output_type": "stream",
     "text": [
      "1에서 100까지의 숫자 중 짝수는 :\n",
      "2 4 6 8 10 12 14 16 18 20 22 24 26 28 30 32 34 36 38 40 42 44 46 48 50 52 54 56 58 60 62 64 66 68 70 72 74 76 78 80 82 84 86 88 90 92 94 96 98 100 "
     ]
    }
   ],
   "source": [
    "list_ = []\n",
    "for i in range(1, 101):\n",
    "    list_.append(i)\n",
    "    \n",
    "print('1에서 100까지의 숫자 중 짝수는 :')\n",
    "for a in filter(lambda x: x%2 == 0, list_):\n",
    "    print(a, end= ' ')"
   ]
  },
  {
   "cell_type": "markdown",
   "id": "aba64222",
   "metadata": {},
   "source": [
    "### Minus filter"
   ]
  },
  {
   "cell_type": "code",
   "execution_count": null,
   "id": "b0946c21",
   "metadata": {},
   "outputs": [],
   "source": [
    "def minus_func(n):\n",
    "    if n < 0 :\n",
    "        return True\n",
    "    else :\n",
    "        return False\n",
    "    \n",
    "n_list = [-30, 45, -5, -90, 20, 53, 77, -36]\n",
    "minus_list = []     \n",
    "\n",
    "for n in filter(minus_func, n_list):\n",
    "    minus_list.append(n)\n",
    "print('음수 리스트 :', minus_list)"
   ]
  },
  {
   "cell_type": "code",
   "execution_count": null,
   "id": "115f6ba6",
   "metadata": {},
   "outputs": [],
   "source": []
  },
  {
   "cell_type": "code",
   "execution_count": null,
   "id": "a9be4db4",
   "metadata": {},
   "outputs": [],
   "source": []
  },
  {
   "cell_type": "markdown",
   "id": "9d4d1062",
   "metadata": {},
   "source": [
    "### map function"
   ]
  },
  {
   "cell_type": "code",
   "execution_count": 16,
   "id": "d40d293f",
   "metadata": {},
   "outputs": [
    {
     "name": "stdout",
     "output_type": "stream",
     "text": [
      "[1, 4, 9, 16, 25, 36, 49]\n"
     ]
    }
   ],
   "source": [
    "a = [1, 2, 3, 4, 5, 6, 7]\n",
    "square_a = []\n",
    "\n",
    "for n in a:\n",
    "    square_a.append(n**2)\n",
    "\n",
    "print(square_a)"
   ]
  },
  {
   "cell_type": "code",
   "execution_count": 18,
   "id": "1fbfd7dc",
   "metadata": {},
   "outputs": [
    {
     "name": "stdout",
     "output_type": "stream",
     "text": [
      "[1, 4, 9, 16, 25, 36, 49]\n"
     ]
    }
   ],
   "source": [
    "a = [1, 2, 3, 4, 5, 6, 7]\n",
    "\n",
    "square_a = list(map(lambda x: x**2, a))\n",
    "print(square_a)"
   ]
  },
  {
   "cell_type": "markdown",
   "id": "63b75df2",
   "metadata": {},
   "source": [
    "### reduce function"
   ]
  },
  {
   "cell_type": "code",
   "execution_count": 21,
   "id": "c523019b",
   "metadata": {},
   "outputs": [
    {
     "name": "stdout",
     "output_type": "stream",
     "text": [
      "5050\n"
     ]
    }
   ],
   "source": [
    "from functools import reduce\n",
    "\n",
    "a = []\n",
    "for i in range(1, 101):\n",
    "    a.append(i)\n",
    "\n",
    "n = reduce(lambda x, y: x + y, a)\n",
    "print(n)"
   ]
  },
  {
   "cell_type": "markdown",
   "id": "946455bd",
   "metadata": {},
   "source": [
    "### list comprehension"
   ]
  },
  {
   "cell_type": "code",
   "execution_count": 22,
   "id": "8268960a",
   "metadata": {},
   "outputs": [
    {
     "name": "stdout",
     "output_type": "stream",
     "text": [
      "[1, 4, 9, 16, 25, 36, 49]\n"
     ]
    }
   ],
   "source": [
    "a = [1, 2, 3, 4, 5, 6, 7]\n",
    "a = list(map(lambda x: x**2, a))\n",
    "print(a)"
   ]
  },
  {
   "cell_type": "code",
   "execution_count": 23,
   "id": "bb9b1c20",
   "metadata": {},
   "outputs": [
    {
     "name": "stdout",
     "output_type": "stream",
     "text": [
      "[1, 4, 9, 16, 25, 36, 49]\n"
     ]
    }
   ],
   "source": [
    "a = [1, 2, 3, 4, 5, 6, 7]\n",
    "a = [x**2 for x in a]\n",
    "print(a)"
   ]
  },
  {
   "cell_type": "code",
   "execution_count": 25,
   "id": "c7be524b",
   "metadata": {},
   "outputs": [
    {
     "name": "stdout",
     "output_type": "stream",
     "text": [
      "[1, 4, 9, 16, 25, 36, 49]\n"
     ]
    }
   ],
   "source": [
    "a = [x**2 for x in range(1,8)]\n",
    "print(a)"
   ]
  },
  {
   "cell_type": "code",
   "execution_count": 26,
   "id": "0f360fed",
   "metadata": {},
   "outputs": [
    {
     "data": {
      "text/plain": [
       "[0, 1, 2, 3, 4, 5, 6, 7, 8, 9]"
      ]
     },
     "execution_count": 26,
     "metadata": {},
     "output_type": "execute_result"
    }
   ],
   "source": [
    "[x for x in range(10)]"
   ]
  },
  {
   "cell_type": "code",
   "execution_count": 27,
   "id": "3a8e298a",
   "metadata": {},
   "outputs": [
    {
     "data": {
      "text/plain": [
       "[0, 2, 4, 6, 8]"
      ]
     },
     "execution_count": 27,
     "metadata": {},
     "output_type": "execute_result"
    }
   ],
   "source": [
    "[x for x in range(10) if x % 2 == 0]"
   ]
  },
  {
   "cell_type": "code",
   "execution_count": 29,
   "id": "01b97305",
   "metadata": {},
   "outputs": [
    {
     "name": "stdout",
     "output_type": "stream",
     "text": [
      "정수 5개를 입력하세요1 2 3 4 555\n",
      "[1, 2, 3, 4, 555]\n"
     ]
    }
   ],
   "source": [
    "s = input('정수 5개를 입력하세요').split()\n",
    "lst = [int(x) for x in s]\n",
    "print(lst)"
   ]
  },
  {
   "cell_type": "code",
   "execution_count": 30,
   "id": "7b9abc5c",
   "metadata": {},
   "outputs": [
    {
     "name": "stdout",
     "output_type": "stream",
     "text": [
      "정수 5개를 입력하세요.2 4 56 6 777\n",
      "[2, 4, 56, 6, 777]\n"
     ]
    }
   ],
   "source": [
    "lst = [int(x) for x in input('정수 5개를 입력하세요.').split()]\n",
    "print(lst)"
   ]
  },
  {
   "cell_type": "code",
   "execution_count": 32,
   "id": "55910104",
   "metadata": {},
   "outputs": [
    {
     "name": "stdout",
     "output_type": "stream",
     "text": [
      "[2, 4, 6, 4, 8, 12, 6, 12, 18]\n"
     ]
    }
   ],
   "source": [
    "product_xy = [x * y for x in [1, 2, 3] for y in [2, 4, 6]]\n",
    "print(product_xy)"
   ]
  },
  {
   "cell_type": "markdown",
   "id": "59c668e1",
   "metadata": {},
   "source": [
    "### 반복자 클래스 생성"
   ]
  },
  {
   "cell_type": "code",
   "execution_count": 36,
   "id": "9b686ba5",
   "metadata": {},
   "outputs": [
    {
     "name": "stdout",
     "output_type": "stream",
     "text": [
      "1\n",
      "3\n",
      "5\n",
      "7\n"
     ]
    }
   ],
   "source": [
    "class OddCounter:\n",
    "    def __init__(self, n = 1):\n",
    "        self.n = n\n",
    "        \n",
    "    def __iter__(self):\n",
    "        return self\n",
    "    \n",
    "    def __next__(self):\n",
    "        t = self.n\n",
    "        self.n += 2\n",
    "        return t\n",
    "    \n",
    "my_counter = OddCounter()\n",
    "print(next(my_counter))\n",
    "print(my_counter.__next__())\n",
    "print(my_counter.__next__())\n",
    "print(my_counter.__next__())"
   ]
  },
  {
   "cell_type": "code",
   "execution_count": 40,
   "id": "bbe9cda2",
   "metadata": {},
   "outputs": [
    {
     "name": "stdout",
     "output_type": "stream",
     "text": [
      "1 3 5 7 9 11 13 15 17 19 "
     ]
    }
   ],
   "source": [
    "class OddCounter:\n",
    "    def __init__(self, n = 1):\n",
    "        self.n = n\n",
    "        \n",
    "    def __iter__(self):\n",
    "        return self\n",
    "    \n",
    "    def __next__(self):\n",
    "        if self.n < 20:\n",
    "            t = self.n\n",
    "            self.n += 2\n",
    "            return t\n",
    "        raise StopIteration\n",
    "    \n",
    "\n",
    "my_counter = OddCounter()\n",
    "for x in my_counter:        \n",
    "    print(x, end=' ')"
   ]
  },
  {
   "cell_type": "markdown",
   "id": "63d31a9d",
   "metadata": {},
   "source": [
    "### all, any, bool 함수"
   ]
  },
  {
   "cell_type": "code",
   "execution_count": 44,
   "id": "68fdf655",
   "metadata": {},
   "outputs": [
    {
     "name": "stdout",
     "output_type": "stream",
     "text": [
      "True\n",
      "False\n",
      "False\n",
      "True\n",
      "True\n",
      "False\n",
      "True\n",
      "True\n",
      "True\n"
     ]
    }
   ],
   "source": [
    "l1 = [1, 2, 3, 4]\n",
    "l2 = [0, 2, 4, 8]\n",
    "l3 = [0, 0, 0 ,0]\n",
    "\n",
    "print(all(l1))\n",
    "print(all(l2))\n",
    "print(all(l3))\n",
    "\n",
    "print(any(l1))\n",
    "print(any(l2))\n",
    "print(any(l3))\n",
    "\n",
    "print(bool(l1))\n",
    "print(bool(l2))\n",
    "print(bool(l3))"
   ]
  },
  {
   "cell_type": "code",
   "execution_count": null,
   "id": "a0fdbe1e",
   "metadata": {},
   "outputs": [],
   "source": []
  }
 ],
 "metadata": {
  "kernelspec": {
   "display_name": "Python 3 (ipykernel)",
   "language": "python",
   "name": "python3"
  },
  "language_info": {
   "codemirror_mode": {
    "name": "ipython",
    "version": 3
   },
   "file_extension": ".py",
   "mimetype": "text/x-python",
   "name": "python",
   "nbconvert_exporter": "python",
   "pygments_lexer": "ipython3",
   "version": "3.9.12"
  }
 },
 "nbformat": 4,
 "nbformat_minor": 5
}
