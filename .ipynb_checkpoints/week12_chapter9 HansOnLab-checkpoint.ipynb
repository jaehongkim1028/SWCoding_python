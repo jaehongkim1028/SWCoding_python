{
 "cells": [
  {
   "cell_type": "code",
   "execution_count": 1,
   "id": "4a3fa0f7",
   "metadata": {},
   "outputs": [
    {
     "data": {
      "text/plain": [
       "['cat', 'dog', 'lion', 'tiger']"
      ]
     },
     "execution_count": 1,
     "metadata": {},
     "output_type": "execute_result"
    }
   ],
   "source": [
    "animals = ['lion', 'tiger', 'cat', 'dog']\n",
    "animals.sort()\n",
    "animals"
   ]
  },
  {
   "cell_type": "code",
   "execution_count": 3,
   "id": "aea9d784",
   "metadata": {},
   "outputs": [
    {
     "data": {
      "text/plain": [
       "['cat', 'dog', 'lion', 'tiger', 'rabbit', 'rabbit']"
      ]
     },
     "execution_count": 3,
     "metadata": {},
     "output_type": "execute_result"
    }
   ],
   "source": [
    "animals.append('rabbit')\n",
    "animals"
   ]
  },
  {
   "cell_type": "code",
   "execution_count": 4,
   "id": "2c48ab31",
   "metadata": {},
   "outputs": [
    {
     "data": {
      "text/plain": [
       "['rabbit', 'rabbit', 'tiger', 'lion', 'dog', 'cat']"
      ]
     },
     "execution_count": 4,
     "metadata": {},
     "output_type": "execute_result"
    }
   ],
   "source": [
    "animals.reverse()\n",
    "animals"
   ]
  },
  {
   "cell_type": "code",
   "execution_count": 5,
   "id": "df2e5035",
   "metadata": {},
   "outputs": [
    {
     "data": {
      "text/plain": [
       "'cat'"
      ]
     },
     "execution_count": 5,
     "metadata": {},
     "output_type": "execute_result"
    }
   ],
   "source": [
    "s = animals.pop()\n",
    "s"
   ]
  },
  {
   "cell_type": "code",
   "execution_count": 6,
   "id": "2a131a04",
   "metadata": {},
   "outputs": [
    {
     "data": {
      "text/plain": [
       "'CAT'"
      ]
     },
     "execution_count": 6,
     "metadata": {},
     "output_type": "execute_result"
    }
   ],
   "source": [
    "s.upper()"
   ]
  },
  {
   "cell_type": "code",
   "execution_count": 7,
   "id": "b93b35ca",
   "metadata": {},
   "outputs": [
    {
     "data": {
      "text/plain": [
       "1"
      ]
     },
     "execution_count": 7,
     "metadata": {},
     "output_type": "execute_result"
    }
   ],
   "source": [
    "s.find('a')"
   ]
  },
  {
   "cell_type": "markdown",
   "id": "962293f8",
   "metadata": {},
   "source": [
    "### type(), id() 함수"
   ]
  },
  {
   "cell_type": "code",
   "execution_count": 8,
   "id": "2b61de9d",
   "metadata": {},
   "outputs": [
    {
     "data": {
      "text/plain": [
       "list"
      ]
     },
     "execution_count": 8,
     "metadata": {},
     "output_type": "execute_result"
    }
   ],
   "source": [
    "type(animals)"
   ]
  },
  {
   "cell_type": "code",
   "execution_count": 9,
   "id": "6d8841e3",
   "metadata": {},
   "outputs": [
    {
     "data": {
      "text/plain": [
       "140465296683776"
      ]
     },
     "execution_count": 9,
     "metadata": {},
     "output_type": "execute_result"
    }
   ],
   "source": [
    "id(animals)"
   ]
  },
  {
   "cell_type": "code",
   "execution_count": 10,
   "id": "7828f1bc",
   "metadata": {},
   "outputs": [],
   "source": [
    "s = 'tiger'"
   ]
  },
  {
   "cell_type": "code",
   "execution_count": 11,
   "id": "e3a2856c",
   "metadata": {},
   "outputs": [
    {
     "data": {
      "text/plain": [
       "str"
      ]
     },
     "execution_count": 11,
     "metadata": {},
     "output_type": "execute_result"
    }
   ],
   "source": [
    "type(s)"
   ]
  },
  {
   "cell_type": "code",
   "execution_count": 12,
   "id": "3882e17d",
   "metadata": {},
   "outputs": [
    {
     "data": {
      "text/plain": [
       "140465048599600"
      ]
     },
     "execution_count": 12,
     "metadata": {},
     "output_type": "execute_result"
    }
   ],
   "source": [
    "id(s)"
   ]
  },
  {
   "cell_type": "markdown",
   "id": "ce54e329",
   "metadata": {},
   "source": [
    "### 정수형의 type과 id, 연산자와 메소드"
   ]
  },
  {
   "cell_type": "code",
   "execution_count": 21,
   "id": "549cdb68",
   "metadata": {},
   "outputs": [
    {
     "data": {
      "text/plain": [
       "int"
      ]
     },
     "execution_count": 21,
     "metadata": {},
     "output_type": "execute_result"
    }
   ],
   "source": [
    "n = 200\n",
    "type(n)"
   ]
  },
  {
   "cell_type": "code",
   "execution_count": 22,
   "id": "4080ab12",
   "metadata": {},
   "outputs": [
    {
     "data": {
      "text/plain": [
       "140465295188624"
      ]
     },
     "execution_count": 22,
     "metadata": {},
     "output_type": "execute_result"
    }
   ],
   "source": [
    "id(n)"
   ]
  },
  {
   "cell_type": "code",
   "execution_count": 23,
   "id": "78e1de4f",
   "metadata": {},
   "outputs": [],
   "source": [
    "n = n + 100"
   ]
  },
  {
   "cell_type": "code",
   "execution_count": 24,
   "id": "507cf4f4",
   "metadata": {},
   "outputs": [
    {
     "data": {
      "text/plain": [
       "140465048607504"
      ]
     },
     "execution_count": 24,
     "metadata": {},
     "output_type": "execute_result"
    }
   ],
   "source": [
    "id(n)"
   ]
  },
  {
   "cell_type": "code",
   "execution_count": 25,
   "id": "a7d23dac",
   "metadata": {},
   "outputs": [
    {
     "data": {
      "text/plain": [
       "301"
      ]
     },
     "execution_count": 25,
     "metadata": {},
     "output_type": "execute_result"
    }
   ],
   "source": [
    "n.__add__(1)"
   ]
  },
  {
   "cell_type": "code",
   "execution_count": 26,
   "id": "58dd4173",
   "metadata": {},
   "outputs": [
    {
     "data": {
      "text/plain": [
       "300"
      ]
     },
     "execution_count": 26,
     "metadata": {},
     "output_type": "execute_result"
    }
   ],
   "source": [
    "200+100"
   ]
  },
  {
   "cell_type": "code",
   "execution_count": 27,
   "id": "bfe5318f",
   "metadata": {},
   "outputs": [
    {
     "data": {
      "text/plain": [
       "300"
      ]
     },
     "execution_count": 27,
     "metadata": {},
     "output_type": "execute_result"
    }
   ],
   "source": [
    "(200).__add__(100)"
   ]
  },
  {
   "cell_type": "markdown",
   "id": "5105829b",
   "metadata": {},
   "source": [
    "### Cat 클래스 정의와 인스턴스 생성 문법"
   ]
  },
  {
   "cell_type": "code",
   "execution_count": 29,
   "id": "daa6ac81",
   "metadata": {},
   "outputs": [
    {
     "name": "stdout",
     "output_type": "stream",
     "text": [
      "<__main__.Cat object at 0x7fc0a01c5d30>\n"
     ]
    }
   ],
   "source": [
    "class Cat:\n",
    "    pass\n",
    "\n",
    "nabi = Cat()\n",
    "print(nabi)"
   ]
  },
  {
   "cell_type": "code",
   "execution_count": null,
   "id": "73de1f86",
   "metadata": {},
   "outputs": [],
   "source": [
    "class Cat:\n",
    "    def meow(self):\n",
    "        print('야옹 야옹~~~')\n",
    "\n",
    "nabi = Cat()\n",
    "nabi.meow()\n",
    "nero = Cat()\n",
    "nero.meow()\n",
    "mimi = Cat()\n",
    "mimi.meow()"
   ]
  },
  {
   "cell_type": "code",
   "execution_count": 33,
   "id": "ca97864b",
   "metadata": {},
   "outputs": [
    {
     "name": "stdout",
     "output_type": "stream",
     "text": [
      "내 이름은 나비, 색깔은 검정색, 야옹 야옹~~\n",
      "내 이름은 네로, 색깔은 흰색, 야옹 야옹~~\n",
      "내 이름은 미미, 색깔은 갈색, 야옹 야옹~~\n"
     ]
    }
   ],
   "source": [
    "class Cat:\n",
    "    def __init__(self, name, color='흰색'):\n",
    "        self.name = name\n",
    "        self.color = color\n",
    "        \n",
    "    def meow(self):\n",
    "        print('내 이름은 {}, 색깔은 {}, 야옹 야옹~~'.format(self.name, self.color))\n",
    "            \n",
    "nabi = Cat('나비','검정색')\n",
    "nero = Cat('네로','흰색')\n",
    "mimi = Cat('미미', '갈색')\n",
    "\n",
    "nabi.meow()\n",
    "nero.meow()\n",
    "mimi.meow()"
   ]
  },
  {
   "cell_type": "markdown",
   "id": "a72e2757",
   "metadata": {},
   "source": [
    "### __str__ 메소드와 print() 함수에서 적용하기"
   ]
  },
  {
   "cell_type": "code",
   "execution_count": 35,
   "id": "c7f8390e",
   "metadata": {},
   "outputs": [
    {
     "name": "stdout",
     "output_type": "stream",
     "text": [
      "Cat(name=나비color=검정색)\n",
      "Cat(name=네로color=흰색)\n"
     ]
    }
   ],
   "source": [
    "class Cat:\n",
    "    def __init__(self, name, color):\n",
    "        self.name = name\n",
    "        self. color = color\n",
    "        \n",
    "    def __str__(self):\n",
    "        return 'Cat(name='+ self.name + 'color=' + self.color + ')'\n",
    "    \n",
    "nabi = Cat('나비', '검정색')\n",
    "nero = Cat('네로', '흰색')\n",
    "print(nabi)\n",
    "print(nero)"
   ]
  },
  {
   "cell_type": "markdown",
   "id": "be7c8b5a",
   "metadata": {},
   "source": [
    "### __add__, __sub__, __str__ 특수메소드"
   ]
  },
  {
   "cell_type": "code",
   "execution_count": 37,
   "id": "c23dcbd5",
   "metadata": {},
   "outputs": [
    {
     "name": "stdout",
     "output_type": "stream",
     "text": [
      "v1 + v2 = (40, 60)\n",
      "v1 - v2 = (20, 20)\n"
     ]
    }
   ],
   "source": [
    "class Vector2D:\n",
    "    def __init__(self, x, y):\n",
    "        self.x = x\n",
    "        self.y = y\n",
    "    def __add__(self, other):\n",
    "        return Vector2D(self.x + other.x, self.y + other.y)\n",
    "    def __sub__(self, other):\n",
    "        return Vector2D(self.x - other.x, self.y - other.y)\n",
    "    def __str__(self):\n",
    "        return \"({}, {})\".format(self.x, self.y)\n",
    "    \n",
    "v1 = Vector2D(30, 40)\n",
    "v2 = Vector2D(10, 20)\n",
    "v3 = v1 + v2\n",
    "\n",
    "print('v1 + v2 =', v3)\n",
    "\n",
    "v4 = v1 - v2\n",
    "print('v1 - v2 =', v4)"
   ]
  },
  {
   "cell_type": "code",
   "execution_count": null,
   "id": "0b77ba20",
   "metadata": {},
   "outputs": [],
   "source": []
  }
 ],
 "metadata": {
  "kernelspec": {
   "display_name": "Python 3 (ipykernel)",
   "language": "python",
   "name": "python3"
  },
  "language_info": {
   "codemirror_mode": {
    "name": "ipython",
    "version": 3
   },
   "file_extension": ".py",
   "mimetype": "text/x-python",
   "name": "python",
   "nbconvert_exporter": "python",
   "pygments_lexer": "ipython3",
   "version": "3.9.12"
  }
 },
 "nbformat": 4,
 "nbformat_minor": 5
}
