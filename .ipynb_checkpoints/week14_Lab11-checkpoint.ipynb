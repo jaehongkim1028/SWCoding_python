{
 "cells": [
  {
   "cell_type": "markdown",
   "id": "22707f2d",
   "metadata": {},
   "source": [
    "# 컴퓨터학부 2020117066 김재홍\n",
    "## Lab11\n",
    "### 11-1"
   ]
  },
  {
   "cell_type": "code",
   "execution_count": 2,
   "id": "5d0a54ce",
   "metadata": {},
   "outputs": [
    {
     "data": {
      "text/plain": [
       "array([0, 1, 2, 3, 4, 5, 6, 7, 8, 9])"
      ]
     },
     "execution_count": 2,
     "metadata": {},
     "output_type": "execute_result"
    }
   ],
   "source": [
    "#1\n",
    "import numpy as np\n",
    "a = np.array([0, 1, 2, 3, 4, 5, 6, 7, 8, 9])\n",
    "a"
   ]
  },
  {
   "cell_type": "code",
   "execution_count": 6,
   "id": "7b810b4d",
   "metadata": {},
   "outputs": [
    {
     "data": {
      "text/plain": [
       "array([0, 1, 2, 3, 4, 5, 6, 7, 8, 9])"
      ]
     },
     "execution_count": 6,
     "metadata": {},
     "output_type": "execute_result"
    }
   ],
   "source": [
    "#2\n",
    "a = []\n",
    "for i in range(0, 10):\n",
    "    a.append(i)\n",
    "b = np.array(a)\n",
    "b"
   ]
  },
  {
   "cell_type": "code",
   "execution_count": 7,
   "id": "d636184e",
   "metadata": {},
   "outputs": [
    {
     "data": {
      "text/plain": [
       "array([0, 2, 4, 6, 8])"
      ]
     },
     "execution_count": 7,
     "metadata": {},
     "output_type": "execute_result"
    }
   ],
   "source": [
    "#3\n",
    "a = []\n",
    "for i in range(0, 10, 2):\n",
    "    a.append(i)\n",
    "c = np.array(a)\n",
    "c"
   ]
  },
  {
   "cell_type": "code",
   "execution_count": 10,
   "id": "72013e87",
   "metadata": {},
   "outputs": [
    {
     "name": "stdout",
     "output_type": "stream",
     "text": [
      "c.shape = (5,)\n",
      "c.ndim = 1\n",
      "c.dtype = int64\n",
      "c.size = 5\n",
      "c.itemsize = 8\n"
     ]
    }
   ],
   "source": [
    "#4\n",
    "a = []\n",
    "for i in range(0, 10, 2):\n",
    "    a.append(i)\n",
    "c = np.array(a)\n",
    "print('c.shape =', c.shape)\n",
    "print('c.ndim =', c.ndim)\n",
    "print('c.dtype =', c.dtype)\n",
    "print('c.size =', c.size)\n",
    "print('c.itemsize =', c.itemsize)"
   ]
  },
  {
   "cell_type": "markdown",
   "id": "d90ec1bd",
   "metadata": {},
   "source": [
    "### 11-2"
   ]
  },
  {
   "cell_type": "code",
   "execution_count": 17,
   "id": "240f6470",
   "metadata": {},
   "outputs": [
    {
     "name": "stdout",
     "output_type": "stream",
     "text": [
      "a = array( [23 45 67  7  2 30 34 82] )\n",
      "최댓값 : 82\n",
      "최솟값 : 2\n",
      "평균 : 36.25\n"
     ]
    }
   ],
   "source": [
    "#1 \n",
    "a = np.array([23, 45, 67, 7, 2, 30, 34, 82])\n",
    "print('a = array(',a,')')\n",
    "print('최댓값 : {}'.format(a.max()))\n",
    "print('최솟값 : {}'.format(a.min()))\n",
    "print('평균 : {}'.format(a.mean()))\n"
   ]
  },
  {
   "cell_type": "code",
   "execution_count": 21,
   "id": "a04b9e0d",
   "metadata": {},
   "outputs": [
    {
     "name": "stdout",
     "output_type": "stream",
     "text": [
      "b = array( [44 85  2 32 79 60 71  2 49 37] )\n",
      "최댓값 : 85\n",
      "최솟값 : 2\n",
      "평균 : 46.1\n"
     ]
    }
   ],
   "source": [
    "#2 \n",
    "b = np.random.randint(0,99, size=10)\n",
    "print('b = array(',b,')')\n",
    "print('최댓값 : {}'.format(b.max()))\n",
    "print('최솟값 : {}'.format(b.min()))\n",
    "print('평균 : {}'.format(b.mean()))"
   ]
  },
  {
   "cell_type": "code",
   "execution_count": 23,
   "id": "be863ee1",
   "metadata": {},
   "outputs": [
    {
     "name": "stdout",
     "output_type": "stream",
     "text": [
      "c = array( [23 45 67  7  2 30 34 82 44 85  2 32 79 60 71  2 49 37] )\n"
     ]
    }
   ],
   "source": [
    "#3\n",
    "c = np.append(a, b)\n",
    "print('c = array(,c,')')"
   ]
  },
  {
   "cell_type": "markdown",
   "id": "f7bb4e71",
   "metadata": {},
   "source": [
    "### 11-3"
   ]
  },
  {
   "cell_type": "code",
   "execution_count": 32,
   "id": "321320e6",
   "metadata": {},
   "outputs": [
    {
     "name": "stdout",
     "output_type": "stream",
     "text": [
      "a = [[1 2 3]\n",
      " [4 5 6]\n",
      " [7 8 9]]\n",
      "b = [[2 2 2]\n",
      " [2 2 2]\n",
      " [2 2 2]]\n"
     ]
    }
   ],
   "source": [
    "#1\n",
    "a = np.array([[1, 2, 3], [4, 5, 6], [7, 8, 9]])\n",
    "b = np.array([[2, 2, 2], [2, 2, 2], [2, 2, 2]])\n",
    "print('a =', a)\n",
    "print('b = {}'.format(b))\n",
    "\n",
    "print('a + b =', a + b)\n",
    "print('a - b =', a - b)\n",
    "print('a * b =', a * b)\n",
    "print('a / b =', a / b)\n",
    "print('a @ b =', a @ b)\n",
    "print('a ** 2 =', a ** 2)"
   ]
  },
  {
   "cell_type": "code",
   "execution_count": null,
   "id": "33231ea0",
   "metadata": {},
   "outputs": [],
   "source": []
  }
 ],
 "metadata": {
  "kernelspec": {
   "display_name": "Python 3 (ipykernel)",
   "language": "python",
   "name": "python3"
  },
  "language_info": {
   "codemirror_mode": {
    "name": "ipython",
    "version": 3
   },
   "file_extension": ".py",
   "mimetype": "text/x-python",
   "name": "python",
   "nbconvert_exporter": "python",
   "pygments_lexer": "ipython3",
   "version": "3.9.12"
  }
 },
 "nbformat": 4,
 "nbformat_minor": 5
}
